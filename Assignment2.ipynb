{
 "cells": [
  {
   "cell_type": "markdown",
   "id": "c3357012-370d-4b00-9413-f53e0f76c2b3",
   "metadata": {},
   "source": [
    "### 1. Write a function to check if a number is prime."
   ]
  },
  {
   "cell_type": "code",
   "execution_count": 29,
   "id": "46b6352e-a477-4f4b-b569-f886604a1f98",
   "metadata": {},
   "outputs": [
    {
     "name": "stdin",
     "output_type": "stream",
     "text": [
      "Enter a number:  6\n"
     ]
    },
    {
     "name": "stdout",
     "output_type": "stream",
     "text": [
      "6 is Not Prime\n"
     ]
    }
   ],
   "source": [
    "def check_prime(num):\n",
    "    count=2\n",
    "    check=\"Prime\"\n",
    "    for i in range(2,num):\n",
    "        if(num%i==0):\n",
    "            count+=1\n",
    "    if(count>2):\n",
    "        check= \"Not Prime\"\n",
    "    return check\n",
    "n = int(input(\"Enter a number: \"))\n",
    "print(n,\"is\",check_prime(n))"
   ]
  },
  {
   "cell_type": "markdown",
   "id": "3846aa15-f3c7-46d8-bd3c-24b2011f31b8",
   "metadata": {},
   "source": [
    "### 2. Create a function to calculate the area of a rectangle."
   ]
  },
  {
   "cell_type": "code",
   "execution_count": 3,
   "id": "88e29345-1fe7-4891-ab8c-48a3595129fd",
   "metadata": {},
   "outputs": [
    {
     "name": "stdin",
     "output_type": "stream",
     "text": [
      "Enter Length of rectangle:  4\n",
      "Enter Breadth of rectangle:  6\n"
     ]
    },
    {
     "name": "stdout",
     "output_type": "stream",
     "text": [
      "Area of rectangle is 24\n"
     ]
    }
   ],
   "source": [
    "def rect_area(l,b):\n",
    "    return (l*b)\n",
    "len = int(input(\"Enter Length of rectangle: \"))\n",
    "br = int(input(\"Enter Breadth of rectangle: \"))\n",
    "print(\"Area of rectangle is\",rect_area(len,br))"
   ]
  },
  {
   "cell_type": "markdown",
   "id": "02b9fdbb-508e-4898-9076-f3d64ae845b8",
   "metadata": {},
   "source": [
    "### 3. Create a function to find the maximum of three numbers. "
   ]
  },
  {
   "cell_type": "code",
   "execution_count": 5,
   "id": "5e42808e-8f59-4f32-bb5f-483457793102",
   "metadata": {},
   "outputs": [
    {
     "name": "stdin",
     "output_type": "stream",
     "text": [
      "Enter 1st number:  2\n",
      "Enter 2nd number:  6\n",
      "Enter 3rd number:  1\n"
     ]
    },
    {
     "name": "stdout",
     "output_type": "stream",
     "text": [
      "Maximum of 3 numbers is: 6\n"
     ]
    }
   ],
   "source": [
    "def find_max(a,b,c):\n",
    "    return max(a,b,c)\n",
    "a = int(input(\"Enter 1st number: \"))\n",
    "b = int(input(\"Enter 2nd number: \"))\n",
    "c = int(input(\"Enter 3rd number: \"))\n",
    "print(\"Maximum of 3 numbers is:\",find_max(a,b,c))"
   ]
  },
  {
   "cell_type": "markdown",
   "id": "8171c499-5be7-4f3c-89ab-700e881d11ea",
   "metadata": {},
   "source": [
    "### 4. Write a function to reverse a string."
   ]
  },
  {
   "cell_type": "code",
   "execution_count": 6,
   "id": "6666932a-3ec8-46aa-85b0-1cb30f43ee1c",
   "metadata": {},
   "outputs": [
    {
     "name": "stdin",
     "output_type": "stream",
     "text": [
      "Enter a string: judge\n"
     ]
    },
    {
     "name": "stdout",
     "output_type": "stream",
     "text": [
      "egduj\n"
     ]
    }
   ],
   "source": [
    "def rev_str(word):\n",
    "    return word[::-1]\n",
    "str=input(\"Enter a string:\")\n",
    "print(rev_str(str))"
   ]
  },
  {
   "cell_type": "markdown",
   "id": "4a15a2bc-0016-48bd-8aa8-175c5b27f7d8",
   "metadata": {},
   "source": [
    "### 5. Create a function to count the number of vowels in a string."
   ]
  },
  {
   "cell_type": "code",
   "execution_count": 7,
   "id": "ab0d4139-c91d-4496-a73c-82a7d5f4864c",
   "metadata": {},
   "outputs": [
    {
     "name": "stdin",
     "output_type": "stream",
     "text": [
      "Enter a string: DisTRACTion\n"
     ]
    },
    {
     "name": "stdout",
     "output_type": "stream",
     "text": [
      "No. of vowels present in the string: 4\n"
     ]
    }
   ],
   "source": [
    "def count_vowels(str):\n",
    "    count=0\n",
    "    vowels = {'a','e','i','o','u','A','E','I','O','U'}\n",
    "    for char in str:\n",
    "        if(char in vowels):\n",
    "            count+=1\n",
    "    return count\n",
    "string=input(\"Enter a string:\")\n",
    "print(\"No. of vowels present in the string:\",count_vowels(string))"
   ]
  },
  {
   "cell_type": "markdown",
   "id": "a24c76a4-f1ae-4d70-a67a-9ca753714197",
   "metadata": {},
   "source": [
    "### 6. Write a function to check if a string is a palindrome."
   ]
  },
  {
   "cell_type": "code",
   "execution_count": 11,
   "id": "e688cfc7-219e-44b9-b2ca-1b287fd63c69",
   "metadata": {},
   "outputs": [
    {
     "name": "stdin",
     "output_type": "stream",
     "text": [
      "Enter a string: madam\n"
     ]
    },
    {
     "name": "stdout",
     "output_type": "stream",
     "text": [
      "A Palindrome\n"
     ]
    }
   ],
   "source": [
    "def check_palindrome(str):\n",
    "    rev=rev_str(str)\n",
    "    if(str==rev):\n",
    "        return \"A Palindrome\"\n",
    "    else:\n",
    "        return \"Not a Palindrome\"\n",
    "string=input(\"Enter a string:\")\n",
    "print(check_palindrome(string))"
   ]
  },
  {
   "cell_type": "markdown",
   "id": "24b42035-a9dc-4b51-adfb-c3f7caaa5167",
   "metadata": {},
   "source": [
    "### 7. Create a function to calculate the sum of a list of numbers."
   ]
  },
  {
   "cell_type": "code",
   "execution_count": 12,
   "id": "6bb0ff36-cdbc-468f-922a-2538b05af15e",
   "metadata": {},
   "outputs": [
    {
     "name": "stdout",
     "output_type": "stream",
     "text": [
      "15\n"
     ]
    }
   ],
   "source": [
    "def sum_all(*args):\n",
    "    return sum(args)\n",
    "print(sum_all(1,2,3,4,5))"
   ]
  },
  {
   "cell_type": "markdown",
   "id": "5df7a0b5-b9b0-42df-ab42-66b0b3a715d6",
   "metadata": {},
   "source": [
    "### 8. Write a function to return the Fibonacci sequence up to n terms. "
   ]
  },
  {
   "cell_type": "code",
   "execution_count": 13,
   "id": "9e4ae97e-eccf-476c-a315-26d64d9919c0",
   "metadata": {},
   "outputs": [
    {
     "name": "stdin",
     "output_type": "stream",
     "text": [
      "Enter a number:  6\n"
     ]
    },
    {
     "name": "stdout",
     "output_type": "stream",
     "text": [
      "Fibonacci series upto 6 th term is: [0, 1, 1, 2, 3, 5]\n"
     ]
    }
   ],
   "source": [
    "def fibonacci_series(n):\n",
    "    list=[0,1]\n",
    "    for i in range(2,n):\n",
    "        list.append(list[i-1]+list[i-2])\n",
    "    return list[:n]\n",
    "n = int(input(\"Enter a number: \"))\n",
    "print(\"Fibonacci series upto\",n,\"th term is:\",fibonacci_series(n))"
   ]
  },
  {
   "cell_type": "markdown",
   "id": "e6742977-9eca-49f9-ac37-2702eaebef5a",
   "metadata": {},
   "source": [
    "### 9. Write a function to convert Celsius to Fahrenheit."
   ]
  },
  {
   "cell_type": "code",
   "execution_count": 14,
   "id": "51af790e-697f-4496-95aa-621b7440170d",
   "metadata": {},
   "outputs": [
    {
     "name": "stdin",
     "output_type": "stream",
     "text": [
      "Enter temperature in degree celcius: 35\n"
     ]
    },
    {
     "name": "stdout",
     "output_type": "stream",
     "text": [
      "Farenheit: 95.0\n"
     ]
    }
   ],
   "source": [
    "def celc_to_faren(cel):\n",
    "    f=(cel*(9/5))+32\n",
    "    return f\n",
    "celcius=int(input(\"Enter temperature in degree celcius:\"))\n",
    "print(\"Farenheit:\",celc_to_faren(celcius))"
   ]
  },
  {
   "cell_type": "markdown",
   "id": "ff4671b0-5e0b-476c-8fb8-c89cbf7bc3fc",
   "metadata": {},
   "source": [
    "### 10. Write a function to find the minimum value in a list."
   ]
  },
  {
   "cell_type": "code",
   "execution_count": 15,
   "id": "2c53e33c-6cc5-4671-aeec-bdd9f93a525f",
   "metadata": {},
   "outputs": [
    {
     "name": "stdout",
     "output_type": "stream",
     "text": [
      "7\n"
     ]
    }
   ],
   "source": [
    "def find_min(dataList):\n",
    "    return min(dataList)\n",
    "min_num=find_min([13,7,16])\n",
    "print(min_num)"
   ]
  },
  {
   "cell_type": "markdown",
   "id": "063992b0-c642-483b-ade5-227265b9fdaa",
   "metadata": {},
   "source": [
    "### 11. Create a function to count how many times a character appears in a string."
   ]
  },
  {
   "cell_type": "code",
   "execution_count": 16,
   "id": "66b80c78-61e5-4ad7-81e8-2c9df8188fd7",
   "metadata": {},
   "outputs": [
    {
     "name": "stdin",
     "output_type": "stream",
     "text": [
      "Enter a string: Payal\n",
      "Enter a character to find its frequency: a\n"
     ]
    },
    {
     "name": "stdout",
     "output_type": "stream",
     "text": [
      "The character 'a' appears 2 times in the string 'Payal'.\n"
     ]
    }
   ],
   "source": [
    "def count_char(string,char):\n",
    "    return string.count(char)\n",
    "str=input(\"Enter a string:\")\n",
    "ch=input(\"Enter a character to find its frequency:\")\n",
    "count=count_char(str,ch)\n",
    "print(f\"The character '{ch}' appears {count} times in the string '{str}'.\")"
   ]
  },
  {
   "cell_type": "markdown",
   "id": "af4e3c9b-1f7d-440a-90a0-cb6ae8cd5103",
   "metadata": {},
   "source": [
    "### 12. Write a function to check if a number is a perfect number."
   ]
  },
  {
   "cell_type": "code",
   "execution_count": 17,
   "id": "77802dbd-b8c6-4d1e-b074-06d636c2064d",
   "metadata": {},
   "outputs": [
    {
     "name": "stdin",
     "output_type": "stream",
     "text": [
      "Enter a number:  6\n"
     ]
    },
    {
     "name": "stdout",
     "output_type": "stream",
     "text": [
      "The number 6 is a Perfect number.\n"
     ]
    }
   ],
   "source": [
    "def check_perfect(num):\n",
    "    if(num<=0):\n",
    "        return False\n",
    "    else:\n",
    "        div_sum=0\n",
    "        for i in range(1,num):\n",
    "            if(num%i==0):\n",
    "                div_sum+=i\n",
    "        return (div_sum==num)     \n",
    "n=int(input(\"Enter a number: \"))\n",
    "if(check_perfect(n)):\n",
    "    print(f\"The number {n} is a Perfect number.\")\n",
    "else:\n",
    "    print(f\"The number {n} is not a Perfect number.\")"
   ]
  },
  {
   "cell_type": "markdown",
   "id": "e8e587ef-735c-4e5c-8c91-3e3fb49ba822",
   "metadata": {},
   "source": [
    "### 13. Create a function to find the sum of digits of a number."
   ]
  },
  {
   "cell_type": "code",
   "execution_count": 18,
   "id": "6338f3a9-e3e5-4359-8742-2030b55bf5f1",
   "metadata": {},
   "outputs": [
    {
     "name": "stdin",
     "output_type": "stream",
     "text": [
      "Enter a number:  462\n"
     ]
    },
    {
     "name": "stdout",
     "output_type": "stream",
     "text": [
      "12\n"
     ]
    }
   ],
   "source": [
    "def dig_sum(num):\n",
    "    sum=0\n",
    "    for char in num:\n",
    "        sum=sum+int(char)\n",
    "    return sum\n",
    "n=input(\"Enter a number: \")\n",
    "print(dig_sum(n))"
   ]
  },
  {
   "cell_type": "markdown",
   "id": "88b01bb6-ee7c-4567-a349-e65520f0a049",
   "metadata": {},
   "source": [
    "### 14. Write a function that takes a string and returns a dictionary of character frequencies."
   ]
  },
  {
   "cell_type": "code",
   "execution_count": 12,
   "id": "52a71da6-c9d2-4156-986b-25394b20ce08",
   "metadata": {},
   "outputs": [
    {
     "name": "stdin",
     "output_type": "stream",
     "text": [
      "Enter a String:  Helloo\n"
     ]
    },
    {
     "name": "stdout",
     "output_type": "stream",
     "text": [
      "{'H': 1, 'e': 1, 'l': 2, 'o': 2}\n"
     ]
    }
   ],
   "source": [
    "def char_frequency(word):\n",
    "    char_dict={}\n",
    "    for char in word:\n",
    "        char_dict[char]=char_dict.get(char,0)+1\n",
    "    return char_dict\n",
    "str=input(\"Enter a String: \")\n",
    "print(char_frequency(str))"
   ]
  },
  {
   "cell_type": "markdown",
   "id": "11618a54-d9e4-4ec1-9a9a-329f9908dbd2",
   "metadata": {},
   "source": [
    "### 15. Write a function that returns the average of a list of numbers. "
   ]
  },
  {
   "cell_type": "code",
   "execution_count": 2,
   "id": "4f428c3d-7e6e-4513-8d83-c6dae9ee2e5f",
   "metadata": {},
   "outputs": [
    {
     "name": "stdout",
     "output_type": "stream",
     "text": [
      "Average: 4.25\n"
     ]
    }
   ],
   "source": [
    "def avg_list(num_list):\n",
    "    avg=sum(num_list)/len(num_list)\n",
    "    return avg\n",
    "num_list=[3,7,2,5]\n",
    "print(\"Average:\",avg_list(num_list))"
   ]
  },
  {
   "cell_type": "markdown",
   "id": "a5acd08c-b4a2-4b82-ae2a-3accfd63fe84",
   "metadata": {},
   "source": [
    "### 16. Create a function that accepts a number and prints its multiplication table. "
   ]
  },
  {
   "cell_type": "code",
   "execution_count": 6,
   "id": "7ea59ae7-cbeb-4018-adfb-2f59b373f588",
   "metadata": {},
   "outputs": [
    {
     "name": "stdin",
     "output_type": "stream",
     "text": [
      "Enter a number:  6\n"
     ]
    },
    {
     "name": "stdout",
     "output_type": "stream",
     "text": [
      "6 X 1 = 6\n",
      "6 X 2 = 12\n",
      "6 X 3 = 18\n",
      "6 X 4 = 24\n",
      "6 X 5 = 30\n",
      "6 X 6 = 36\n",
      "6 X 7 = 42\n",
      "6 X 8 = 48\n",
      "6 X 9 = 54\n",
      "6 X 10 = 60\n"
     ]
    }
   ],
   "source": [
    "def show_mul_table(num):\n",
    "    for i in range(1,11):\n",
    "        print(f\"{num} X {i} = {num*i}\")\n",
    "n=int(input(\"Enter a number: \"))\n",
    "show_mul_table(n)"
   ]
  },
  {
   "cell_type": "markdown",
   "id": "7999343b-409b-4d6b-9aba-8e3b2048176f",
   "metadata": {},
   "source": [
    "### 17. Write a function that accepts a list and returns the list in reverse order. "
   ]
  },
  {
   "cell_type": "code",
   "execution_count": 8,
   "id": "c9b4e0a9-cd3f-4344-ba7b-698d30d11462",
   "metadata": {},
   "outputs": [
    {
     "name": "stdout",
     "output_type": "stream",
     "text": [
      "Original list: [3, 7, 2, 5]\n",
      "Reverse list: [5, 2, 7, 3]\n"
     ]
    }
   ],
   "source": [
    "def rev_list(list):\n",
    "    return list[::-1]\n",
    "num_list=[3,7,2,5]\n",
    "print(\"Original list:\",num_list)\n",
    "print(\"Reverse list:\",rev_list(num_list))"
   ]
  },
  {
   "cell_type": "markdown",
   "id": "41cd8d51-83ba-4575-b76d-00d071a71b0d",
   "metadata": {},
   "source": [
    "### 18. Write a function to find the second largest number in a list."
   ]
  },
  {
   "cell_type": "code",
   "execution_count": 9,
   "id": "1dc1b339-0e32-4158-b625-9f78852f4818",
   "metadata": {},
   "outputs": [
    {
     "name": "stdout",
     "output_type": "stream",
     "text": [
      "Original list: [3, 7, 2, 5]\n",
      "2nd largest number in list: 5\n"
     ]
    }
   ],
   "source": [
    "def second_largest(num_list):\n",
    "    num_list = list(set(num_list))\n",
    "    num_list.sort()\n",
    "    #print(\"Sorted list:\", num_list)\n",
    "    return num_list[-2]\n",
    "num_list=[3,7,2,5]\n",
    "print(\"Original list:\",num_list)\n",
    "print(\"2nd largest number in list:\", second_largest(num_list))"
   ]
  },
  {
   "cell_type": "markdown",
   "id": "0aca9153-5df4-4ec6-9cd8-5211867a5f30",
   "metadata": {},
   "source": [
    "### 19. Create a function that accepts a list of integers and returns only the even ones."
   ]
  },
  {
   "cell_type": "code",
   "execution_count": 14,
   "id": "2dbfa8b4-c0bb-4c89-8b5d-31c5df81bb63",
   "metadata": {},
   "outputs": [
    {
     "data": {
      "text/plain": [
       "[2, 4]"
      ]
     },
     "execution_count": 14,
     "metadata": {},
     "output_type": "execute_result"
    }
   ],
   "source": [
    "def ret_even_num(num_list):\n",
    "    num_list= list(set(num_list))\n",
    "    even_list=[]\n",
    "    for i in num_list:\n",
    "        if(i%2==0):\n",
    "            even_list.append(i)\n",
    "    return even_list\n",
    "num_list=[3,7,2,5,4]\n",
    "ret_even_num(num_list)"
   ]
  },
  {
   "cell_type": "markdown",
   "id": "44bbc27c-4fd3-4de7-9db1-0433b2611835",
   "metadata": {},
   "source": [
    "### 20. Write a function to check if all characters in a string are unique."
   ]
  },
  {
   "cell_type": "code",
   "execution_count": 11,
   "id": "85722061-3e72-4e1b-9456-6731dbe477f3",
   "metadata": {},
   "outputs": [
    {
     "name": "stdin",
     "output_type": "stream",
     "text": [
      "Enter a String:  jogi\n"
     ]
    },
    {
     "name": "stdout",
     "output_type": "stream",
     "text": [
      "{'g', 'i', 'o', 'j'} jogi\n",
      "All characters in the String are Unique.\n"
     ]
    }
   ],
   "source": [
    "def check_unique_str(st):\n",
    "    string=st\n",
    "    st=set(st)\n",
    "    print(st,string)\n",
    "    return (len(string)==len(st))\n",
    "st=input(\"Enter a String: \")\n",
    "if(check_unique_str(st)):\n",
    "    print(\"All characters in the String are Unique.\")\n",
    "else:\n",
    "    print(\"All characters in the String are not Unique.\")"
   ]
  },
  {
   "cell_type": "markdown",
   "id": "03ad49fc-ca1e-458b-bd5d-ae8e60a58fb5",
   "metadata": {},
   "source": [
    "### 21. Create a function to calculate the greatest common divisor (GCD) of two numbers."
   ]
  },
  {
   "cell_type": "code",
   "execution_count": 10,
   "id": "65500122-7791-4cc0-bfdd-8aa5c7d7756e",
   "metadata": {},
   "outputs": [
    {
     "name": "stdin",
     "output_type": "stream",
     "text": [
      "Enter 1st number: 20\n",
      "Enter 2nd number: 45\n"
     ]
    },
    {
     "name": "stdout",
     "output_type": "stream",
     "text": [
      "GCD: 5\n"
     ]
    }
   ],
   "source": [
    "import math\n",
    "def calc_gcd(a,b):\n",
    "    while(b!=0):\n",
    "        a,b=b,a%b\n",
    "    return a\n",
    "a=int(input(\"Enter 1st number:\"))\n",
    "b=int(input(\"Enter 2nd number:\"))\n",
    "print(\"GCD:\",calc_gcd(a,b))"
   ]
  },
  {
   "cell_type": "markdown",
   "id": "82188af6-1ec8-44e3-941c-a76958f82f62",
   "metadata": {},
   "source": [
    "### 22. Write a function to find the least common multiple (LCM) of two numbers. "
   ]
  },
  {
   "cell_type": "code",
   "execution_count": 11,
   "id": "4d8351b7-5e6b-41ea-842f-bce4a556d568",
   "metadata": {},
   "outputs": [
    {
     "name": "stdin",
     "output_type": "stream",
     "text": [
      "Enter 1st number: 20\n",
      "Enter 2nd number: 45\n"
     ]
    },
    {
     "name": "stdout",
     "output_type": "stream",
     "text": [
      "LCM: 180\n"
     ]
    }
   ],
   "source": [
    "def calc_lcm(a,b):\n",
    "    res=abs(a*b)//calc_gcd(a,b)\n",
    "    return res\n",
    "a=int(input(\"Enter 1st number:\"))\n",
    "b=int(input(\"Enter 2nd number:\"))\n",
    "print(\"LCM:\",calc_lcm(a,b))"
   ]
  },
  {
   "cell_type": "markdown",
   "id": "af6f671a-72c4-4cef-afef-26867e55371b",
   "metadata": {},
   "source": [
    "### 23. Create a function to remove duplicates from a list. "
   ]
  },
  {
   "cell_type": "code",
   "execution_count": 13,
   "id": "f1557540-d1dd-4b3c-97f6-5dc795f792ad",
   "metadata": {},
   "outputs": [
    {
     "name": "stdout",
     "output_type": "stream",
     "text": [
      "Original list: [3, 7, 2, 7, 3, 5]\n",
      "After removal of duplicates the New list: [2, 3, 5, 7]\n"
     ]
    }
   ],
   "source": [
    "def rm_duplicate(num_list):\n",
    "    num_list=list(set(num_list))\n",
    "    return num_list\n",
    "num_list=[3,7,2,7,3,5]\n",
    "print(\"Original list:\",num_list)\n",
    "print(\"After removal of duplicates the New list:\",rm_duplicate(num_list))"
   ]
  },
  {
   "cell_type": "markdown",
   "id": "a64ccb73-aa31-4f2f-b16e-47e68e8fa6b4",
   "metadata": {},
   "source": [
    "### 24. Write a recursive function to compute the factorial of a number."
   ]
  },
  {
   "cell_type": "code",
   "execution_count": 14,
   "id": "914751f4-2cf3-4b11-8c3c-220f8be5c3b1",
   "metadata": {},
   "outputs": [
    {
     "name": "stdin",
     "output_type": "stream",
     "text": [
      "Enter a number: 6\n"
     ]
    },
    {
     "name": "stdout",
     "output_type": "stream",
     "text": [
      "Factorial of 6 is: 720\n"
     ]
    }
   ],
   "source": [
    "def factorial(num):\n",
    "    if(num==0):\n",
    "        return 1\n",
    "    else:\n",
    "        return (num * factorial(num-1))\n",
    "a=int(input(\"Enter a number:\"))\n",
    "print(\"Factorial of\",a,\"is:\",factorial(a))"
   ]
  },
  {
   "cell_type": "markdown",
   "id": "d2530aec-189d-4c2c-b916-98f2a380f957",
   "metadata": {},
   "source": [
    "### 25. Create a function that checks if a number is an Armstrong number."
   ]
  },
  {
   "cell_type": "code",
   "execution_count": 19,
   "id": "5bb7fba1-267c-4834-b7df-86ee12d30c4f",
   "metadata": {},
   "outputs": [
    {
     "name": "stdin",
     "output_type": "stream",
     "text": [
      "Enter a number: 158\n"
     ]
    },
    {
     "name": "stdout",
     "output_type": "stream",
     "text": [
      "158 is not an Armstrong\n"
     ]
    }
   ],
   "source": [
    "def check_armstrong(n):\n",
    "    l=len(n)\n",
    "    #print(l)\n",
    "    sum=0\n",
    "    num=int(n)\n",
    "    for i in n:\n",
    "        sum=sum+(int(i)**l)\n",
    "    if(num==sum):\n",
    "        return \"Armstrong\"\n",
    "    else:\n",
    "        return \"not an Armstrong\"\n",
    "a=input(\"Enter a number:\")\n",
    "print(a,\"is\",check_armstrong(a))    "
   ]
  },
  {
   "cell_type": "markdown",
   "id": "4d7dfd81-84aa-460d-bc9a-c31c8754bc8b",
   "metadata": {},
   "source": [
    "### 26. Write a function that returns all prime numbers up to n. "
   ]
  },
  {
   "cell_type": "code",
   "execution_count": 44,
   "id": "584a05b0-a6ed-4a67-a3bc-e6df845dd455",
   "metadata": {},
   "outputs": [
    {
     "name": "stdin",
     "output_type": "stream",
     "text": [
      "Enter n :  7\n"
     ]
    },
    {
     "name": "stdout",
     "output_type": "stream",
     "text": [
      "All the prime numbers upto 7 are [2, 3, 5, 7]\n"
     ]
    }
   ],
   "source": [
    "def show_prime(num):\n",
    "    count=2\n",
    "    check=\"\"\n",
    "    if(num>=2):\n",
    "        all_prime=[2]\n",
    "        for j in range(1,num+1):   \n",
    "            for i in range(2,j):\n",
    "                if(j%i==0):\n",
    "                    count+=1\n",
    "                    check=\"Not Prime\"\n",
    "                    break\n",
    "                else:\n",
    "                    check=\"Prime\"            \n",
    "            if(check==\"Prime\"):\n",
    "                all_prime.append(j)    \n",
    "    return all_prime\n",
    "n = int(input(\"Enter n : \"))\n",
    "print(f\"All the prime numbers upto {n} are {show_prime(n)}\")"
   ]
  },
  {
   "cell_type": "markdown",
   "id": "195e263f-5e94-412b-b960-2914eed437a7",
   "metadata": {},
   "source": [
    "### 27. Create a function that accepts a sentence and returns the longest word. "
   ]
  },
  {
   "cell_type": "code",
   "execution_count": 7,
   "id": "ce9dbfbd-4501-43f6-8d4d-afc7f97e0066",
   "metadata": {},
   "outputs": [
    {
     "name": "stdin",
     "output_type": "stream",
     "text": [
      "Enter a Sentence:  Hello! Welcome to NIELIT\n"
     ]
    },
    {
     "name": "stdout",
     "output_type": "stream",
     "text": [
      "The longest word in the sentence is : Welcome\n"
     ]
    }
   ],
   "source": [
    "def longest_word(st):\n",
    "    words=st.split()\n",
    "    res=max(words,key=len)\n",
    "    return res\n",
    "st=input(\"Enter a Sentence: \")\n",
    "print(f\"The longest word in the sentence is : {longest_word(st)}\")"
   ]
  },
  {
   "cell_type": "markdown",
   "id": "bca70ce9-7240-46ec-ad87-6682793c2935",
   "metadata": {},
   "source": [
    "### 28. Write a function to compute the power of a number using recursion. |"
   ]
  },
  {
   "cell_type": "code",
   "execution_count": 10,
   "id": "2af1dcf9-bb20-4d86-93c4-9247d04f47cd",
   "metadata": {},
   "outputs": [
    {
     "name": "stdin",
     "output_type": "stream",
     "text": [
      "Enter a number: 5\n",
      "Enter its power: 3\n"
     ]
    },
    {
     "name": "stdout",
     "output_type": "stream",
     "text": [
      "5 ^ 3 = 125\n"
     ]
    }
   ],
   "source": [
    "def pow_num(num ,n):\n",
    "    if(n==0):\n",
    "        return 1\n",
    "    else:\n",
    "        return (num * pow_num(num ,n-1))\n",
    "a=int(input(\"Enter a number:\"))\n",
    "n=int(input(\"Enter its power:\"))\n",
    "print(f\"{a} ^ {n} = {pow_num(a,n)}\")"
   ]
  },
  {
   "cell_type": "markdown",
   "id": "58177181-1b39-4d45-bfc2-7e89cf793aaf",
   "metadata": {},
   "source": [
    "### 29. Create a function that flattens a nested list."
   ]
  },
  {
   "cell_type": "code",
   "execution_count": 25,
   "id": "d76c7d56-e16c-429d-b7d3-48ceafb420aa",
   "metadata": {},
   "outputs": [
    {
     "name": "stdout",
     "output_type": "stream",
     "text": [
      "Original Nested List: [1, 2, [5, [8, 56]], 15, 27, 72]\n",
      "Flatten Nested List: [1, 2, 5, 8, 56, 15, 27, 72]\n"
     ]
    }
   ],
   "source": [
    "f_list=[]\n",
    "def flat_list(o_list):\n",
    "    for i in o_list:\n",
    "        if(type(i)== list):\n",
    "            flat_list(i)\n",
    "        else:\n",
    "            f_list.append(i)\n",
    "    return f_list\n",
    "List=[1,2,[5,[8,56]],15,27,72]\n",
    "print(f\"Original Nested List: {List}\")\n",
    "print(f\"Flatten Nested List: {flat_list(List)}\")"
   ]
  },
  {
   "cell_type": "markdown",
   "id": "cb148313-50a4-48f2-afb6-59cca7802c89",
   "metadata": {},
   "source": [
    "### 30. Write a function to check if a list is sorted. "
   ]
  },
  {
   "cell_type": "code",
   "execution_count": 34,
   "id": "6aca9e46-9b8f-4b91-813c-4866633e52b9",
   "metadata": {},
   "outputs": [
    {
     "name": "stdout",
     "output_type": "stream",
     "text": [
      "Original List: [1, 4, 5, 6, 3, 8]\n",
      "Is Sorted? False\n"
     ]
    }
   ],
   "source": [
    "def check_sorted_list(o_list):\n",
    "    return (o_list==sorted(o_list) or o_list==sorted(o_list,reverse=True))\n",
    "    #count=0\n",
    "    # for i in range(0,len(o_list)-1):\n",
    "    #     if(o_list[i]<o_list[i+1]): #checking ascending sorting\n",
    "    #         count+=1\n",
    "    #     elif(o_list[i]>o_list[i+1]): #checking descending sorting\n",
    "    #         count+=1\n",
    "    # if(count==len(o_list)-1):\n",
    "    #     return True\n",
    "    # else:\n",
    "    #     return False\n",
    "List=[1,4,5,6,3,8]\n",
    "print(f\"Original List: {List}\")\n",
    "print(f\"Is Sorted? {check_sorted_list(List)}\")"
   ]
  },
  {
   "cell_type": "markdown",
   "id": "a51efa19-70d2-4a95-86cc-b73542cf9304",
   "metadata": {},
   "source": [
    "### 31. Create a function to merge two sorted lists into one sorted list."
   ]
  },
  {
   "cell_type": "code",
   "execution_count": 37,
   "id": "cbb4c516-43a6-4a9e-a092-b7dc4b286664",
   "metadata": {},
   "outputs": [
    {
     "name": "stdout",
     "output_type": "stream",
     "text": [
      "Merged Sorted list is: [1, 2, 3, 3, 4, 5, 5, 6, 6, 8, 8, 9]\n"
     ]
    }
   ],
   "source": [
    "def merge_sortedLists(l1,l2):\n",
    "    return sorted(l1 + l2)\n",
    "list1 = [1,4,5,6,3,8]\n",
    "list2 = [5,8,2,3,9,6]\n",
    "print(\"Merged Sorted list is:\",merge_sortedLists(list1,list2))"
   ]
  },
  {
   "cell_type": "markdown",
   "id": "ad88b8d7-96dd-45a5-99ba-39a4bc64036e",
   "metadata": {},
   "source": [
    "### 32. Write a function to find the most frequent element in a list."
   ]
  },
  {
   "cell_type": "code",
   "execution_count": 41,
   "id": "c3ac1115-9778-42e8-9bdb-db88ec0e2c10",
   "metadata": {},
   "outputs": [
    {
     "name": "stdout",
     "output_type": "stream",
     "text": [
      "Original List: [1, 2, 3, 3, 4, 5, 5, 6, 6, 6, 8, 8, 9]\n",
      "The most frequent element in a list is: 6\n"
     ]
    }
   ],
   "source": [
    "def most_frequent_item(main_list):\n",
    "    return max(set(main_list),key= main_list.count)\n",
    "my_list=[1,2,3,3,4,5,5,6,6,6,8,8,9]\n",
    "print(f\"Original List: {my_list}\")\n",
    "print(\"The most frequent element in a list is:\",most_frequent_item(my_list))"
   ]
  },
  {
   "cell_type": "markdown",
   "id": "5ff02fcc-f772-43aa-92f3-ba3333aec172",
   "metadata": {},
   "source": [
    "### 33. Create a function that returns the median of a list."
   ]
  },
  {
   "cell_type": "code",
   "execution_count": 47,
   "id": "dd3fc472-458b-4f1a-a6fd-2351f05bdaef",
   "metadata": {},
   "outputs": [
    {
     "name": "stdout",
     "output_type": "stream",
     "text": [
      "Original List: [1, 2, 3, 3, 4, 6, 6, 8, 8, 9]\n",
      "Median of the list is: 5.0\n"
     ]
    }
   ],
   "source": [
    "def find_median(main_list):\n",
    "    sorted_list=sorted(main_list)\n",
    "    n=len(sorted_list)\n",
    "    if(n%2==0):\n",
    "        median=(sorted_list[(n//2)-1] + sorted_list[n//2])/2\n",
    "    else:\n",
    "        median=sorted_list[n//2]\n",
    "    return median\n",
    "my_list=[1,2,3,3,4,6,6,8,8,9]\n",
    "print(f\"Original List: {my_list}\")\n",
    "print(\"Median of the list is:\",find_median(my_list))"
   ]
  },
  {
   "cell_type": "markdown",
   "id": "2ad2bc3b-6e22-4cbe-b1a0-8f3c269b2a60",
   "metadata": {},
   "source": [
    "### 34. Create a function that finds the intersection of two lists."
   ]
  },
  {
   "cell_type": "code",
   "execution_count": 51,
   "id": "1632566c-0850-414f-b7ad-7533a32990f4",
   "metadata": {},
   "outputs": [
    {
     "name": "stdout",
     "output_type": "stream",
     "text": [
      "List 1 : [1, 4, 5, 6, 3, 8]\n",
      "List 2 : [5, 8, 2, 3, 9, 6]\n",
      "Intersection of the list is: [8, 3, 5, 6]\n"
     ]
    }
   ],
   "source": [
    "def intersect_lists(l1,l2):\n",
    "    intersect_list =  list(set(l1) & set(l2))\n",
    "    return intersect_list\n",
    "l1 = [1, 4, 5, 6, 3, 8]\n",
    "l2 = [5, 8, 2, 3, 9, 6]\n",
    "print(f\"List 1 : {l1}\")\n",
    "print(f\"List 2 : {l2}\")\n",
    "print(\"Intersection of the list is:\",intersect_lists(l1,l2))"
   ]
  },
  {
   "cell_type": "markdown",
   "id": "11977543-4334-4f2a-b326-8b90a7dc48b3",
   "metadata": {},
   "source": [
    "### 35. Write a function that accepts variable number of arguments and returns their product. "
   ]
  },
  {
   "cell_type": "code",
   "execution_count": 52,
   "id": "a379532e-c404-40ac-8c0a-49cf0a7ab695",
   "metadata": {},
   "outputs": [
    {
     "name": "stdout",
     "output_type": "stream",
     "text": [
      "Product of the numbers(1,3,5,6) is: 90\n"
     ]
    }
   ],
   "source": [
    "def product_args(*args):\n",
    "    p=1\n",
    "    for i in args:\n",
    "       p*=i\n",
    "    return p\n",
    "print(\"Product of the numbers(1,3,5,6) is:\",product_args(1,3,5,6))"
   ]
  },
  {
   "cell_type": "markdown",
   "id": "8265e250-020c-466c-8582-167aee04a58b",
   "metadata": {},
   "source": [
    "### 36. Write a function that returns a list of tuples (element, index) from a list. "
   ]
  },
  {
   "cell_type": "code",
   "execution_count": 53,
   "id": "c7e06f48-c01c-40f5-9538-dfb988130a0f",
   "metadata": {},
   "outputs": [
    {
     "name": "stdout",
     "output_type": "stream",
     "text": [
      "Original List: [1, 4, 5, 6, 3, 8]\n",
      "A list of tuples (element, index) from the given list:\n",
      "[(0, 1), (1, 4), (2, 5), (3, 6), (4, 3), (5, 8)]\n"
     ]
    }
   ],
   "source": [
    "def list_of_tuples(lst):\n",
    "    return list(enumerate(lst))\n",
    "    #enumerate() gives both index & value of each element as it iterates through the list\n",
    "g_list = [1, 4, 5, 6, 3, 8]\n",
    "print(f\"Original List: {g_list}\")\n",
    "print(f\"A list of tuples (element, index) from the given list:\\n{list_of_tuples(g_list)}\")"
   ]
  },
  {
   "cell_type": "markdown",
   "id": "86bfbaa0-12ad-4cbe-8065-183df89ff82e",
   "metadata": {},
   "source": [
    "### 37. Create a function that accepts a string and returns a dictionary of word counts."
   ]
  },
  {
   "cell_type": "code",
   "execution_count": 55,
   "id": "79b65d4d-62a7-4851-b70c-f3bf65bbd6e0",
   "metadata": {},
   "outputs": [
    {
     "name": "stdin",
     "output_type": "stream",
     "text": [
      "Enter a string: Hello hii hi hey hey\n"
     ]
    },
    {
     "name": "stdout",
     "output_type": "stream",
     "text": [
      "Dictionary Word Counts are:\n",
      " {'hello': 1, 'hii': 1, 'hi': 1, 'hey': 2}\n"
     ]
    }
   ],
   "source": [
    "def dict_word_count(S):\n",
    "    words = S.split()\n",
    "    words_dict = {}\n",
    "    for word in words:\n",
    "        word = word.lower()\n",
    "        if word in words_dict:\n",
    "            words_dict[word] += 1\n",
    "        else:\n",
    "            words_dict[word]=1\n",
    "    return words_dict\n",
    "S = input(\"Enter a string:\")\n",
    "print(\"Dictionary Word Counts are:\\n\",dict_word_count(S))"
   ]
  },
  {
   "cell_type": "markdown",
   "id": "ea5bb01b-df58-474f-8273-25018697b766",
   "metadata": {},
   "source": [
    "### 38. Write a function that checks if a sentence is a pangram. "
   ]
  },
  {
   "cell_type": "code",
   "execution_count": 56,
   "id": "9c4e930d-039f-442a-be82-ca9642cc8586",
   "metadata": {},
   "outputs": [
    {
     "name": "stdin",
     "output_type": "stream",
     "text": [
      "Enter a Sentence: smid dkeo dfg\n"
     ]
    },
    {
     "name": "stdout",
     "output_type": "stream",
     "text": [
      "Is pangram: False\n"
     ]
    }
   ],
   "source": [
    "import string as str\n",
    "def is_pangram(s):\n",
    "    return set(str.ascii_lowercase).issubset(set(s.lower()))\n",
    "S = input(\"Enter a Sentence:\")\n",
    "print(\"Is pangram:\",is_pangram(S))"
   ]
  },
  {
   "cell_type": "markdown",
   "id": "b8e7bcdf-38ad-4198-98a6-fe4ea1f9c8e4",
   "metadata": {},
   "source": [
    "### 39. Create a function that accepts a list and a value, and returns the index of the value (or -1)"
   ]
  },
  {
   "cell_type": "code",
   "execution_count": 58,
   "id": "ea28816e-c58c-4176-acad-28e6c1fd7f62",
   "metadata": {},
   "outputs": [
    {
     "name": "stdout",
     "output_type": "stream",
     "text": [
      "Given List: [1, 4, 5, 6, 3, 8]\n"
     ]
    },
    {
     "name": "stdin",
     "output_type": "stream",
     "text": [
      "Enter a value from the given list to find its index number: 5\n"
     ]
    },
    {
     "name": "stdout",
     "output_type": "stream",
     "text": [
      "5 exist in  2 index position.\n"
     ]
    }
   ],
   "source": [
    "def find_index(lst,value):\n",
    "    for i , x in enumerate(lst):\n",
    "        if x == value:\n",
    "            return i\n",
    "    return -1\n",
    "lst = [1, 4, 5, 6, 3, 8]\n",
    "print(f\"Given List: {lst}\")\n",
    "val = int(input(\"Enter a value from the given list to find its index number:\"))\n",
    "print(val,\"exist in \",find_index(lst,val),\"index position.\")"
   ]
  },
  {
   "cell_type": "markdown",
   "id": "c27e0c71-16b6-4585-b001-372f3c15c761",
   "metadata": {},
   "source": [
    "### 40. Write a function that counts the number of uppercase and lowercase characters in a string."
   ]
  },
  {
   "cell_type": "code",
   "execution_count": 60,
   "id": "664fad68-fdcf-465f-a3c6-3de204e3a0d4",
   "metadata": {},
   "outputs": [
    {
     "name": "stdin",
     "output_type": "stream",
     "text": [
      "Enter a string: GoodNight\n"
     ]
    },
    {
     "name": "stdout",
     "output_type": "stream",
     "text": [
      "Uppercase characters present: 2\n",
      "Lowercase characters present: 7\n"
     ]
    }
   ],
   "source": [
    "def case_counts(s):\n",
    "    ucase = 0\n",
    "    lcase = 0\n",
    "    for ch in s:\n",
    "        if(ch.isupper()):\n",
    "            ucase += 1\n",
    "        elif(ch.islower()):\n",
    "            lcase += 1\n",
    "    return ucase,lcase\n",
    "s = input(\"Enter a string:\")\n",
    "up_case ,low_case = case_counts(s)\n",
    "print(\"Uppercase characters present:\",up_case)\n",
    "print(\"Lowercase characters present:\",low_case)"
   ]
  }
 ],
 "metadata": {
  "kernelspec": {
   "display_name": "Python [conda env:base] *",
   "language": "python",
   "name": "conda-base-py"
  },
  "language_info": {
   "codemirror_mode": {
    "name": "ipython",
    "version": 3
   },
   "file_extension": ".py",
   "mimetype": "text/x-python",
   "name": "python",
   "nbconvert_exporter": "python",
   "pygments_lexer": "ipython3",
   "version": "3.12.7"
  }
 },
 "nbformat": 4,
 "nbformat_minor": 5
}
