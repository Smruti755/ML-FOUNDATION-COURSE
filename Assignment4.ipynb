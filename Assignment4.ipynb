{
 "cells": [
  {
   "cell_type": "markdown",
   "id": "5426668c",
   "metadata": {},
   "source": [
    "### NumPy"
   ]
  },
  {
   "cell_type": "markdown",
   "id": "04ab14a2",
   "metadata": {},
   "source": [
    "### 1.Create a 1D array from a list."
   ]
  },
  {
   "cell_type": "code",
   "execution_count": 19,
   "id": "998a76e2-8ebd-4315-b3a3-a2adc37cef3b",
   "metadata": {},
   "outputs": [
    {
     "data": {
      "text/plain": [
       "array([5, 3, 8])"
      ]
     },
     "execution_count": 19,
     "metadata": {},
     "output_type": "execute_result"
    }
   ],
   "source": [
    "import numpy as np\n",
    "num_list=[5,3,8]\n",
    "arr1=np.array(num_list)\n",
    "arr1"
   ]
  },
  {
   "cell_type": "markdown",
   "id": "6685e60b",
   "metadata": {},
   "source": [
    "### 2. Create a 3x3 array of zeros."
   ]
  },
  {
   "cell_type": "code",
   "execution_count": 2,
   "id": "35abfd3d-ee01-46c9-83a0-904c7536e9f9",
   "metadata": {},
   "outputs": [
    {
     "data": {
      "text/plain": [
       "array([[0., 0., 0.],\n",
       "       [0., 0., 0.],\n",
       "       [0., 0., 0.]])"
      ]
     },
     "execution_count": 2,
     "metadata": {},
     "output_type": "execute_result"
    }
   ],
   "source": [
    "zero_arr=np.zeros((3,3))\n",
    "zero_arr"
   ]
  },
  {
   "cell_type": "markdown",
   "id": "4b3228e3",
   "metadata": {},
   "source": [
    "### 3. Create a 2x2 array of ones."
   ]
  },
  {
   "cell_type": "code",
   "execution_count": 3,
   "id": "29f75f38-ab9b-4d3b-bd10-4634b4267f28",
   "metadata": {},
   "outputs": [
    {
     "data": {
      "text/plain": [
       "array([[1., 1.],\n",
       "       [1., 1.]])"
      ]
     },
     "execution_count": 3,
     "metadata": {},
     "output_type": "execute_result"
    }
   ],
   "source": [
    "one_arr=np.ones((2,2))\n",
    "one_arr"
   ]
  },
  {
   "cell_type": "markdown",
   "id": "216a6008",
   "metadata": {},
   "source": [
    "### 4. Generate array from 0 to 10 (exclusive)."
   ]
  },
  {
   "cell_type": "code",
   "execution_count": 4,
   "id": "7139c780-3db0-4a5e-b93d-3e16420e4913",
   "metadata": {},
   "outputs": [
    {
     "data": {
      "text/plain": [
       "array([0, 1, 2, 3, 4, 5, 6, 7, 8, 9])"
      ]
     },
     "execution_count": 4,
     "metadata": {},
     "output_type": "execute_result"
    }
   ],
   "source": [
    "arr2=np.arange(0,10,1)\n",
    "arr2"
   ]
  },
  {
   "cell_type": "markdown",
   "id": "33fc220e",
   "metadata": {},
   "source": [
    "### 5. Create 5 evenly spaced numbers between 0 and 1."
   ]
  },
  {
   "cell_type": "code",
   "execution_count": 5,
   "id": "1bfaa8b2-e60a-48be-b141-8961e8170aee",
   "metadata": {},
   "outputs": [
    {
     "data": {
      "text/plain": [
       "array([0.  , 0.25, 0.5 , 0.75, 1.  ])"
      ]
     },
     "execution_count": 5,
     "metadata": {},
     "output_type": "execute_result"
    }
   ],
   "source": [
    "even_sp_arr=np.linspace(0,1,5)\n",
    "even_sp_arr"
   ]
  },
  {
   "cell_type": "markdown",
   "id": "36beae34",
   "metadata": {},
   "source": [
    "### 6. Create a 4x4 identity matrix."
   ]
  },
  {
   "cell_type": "code",
   "execution_count": 6,
   "id": "0fc12986-ae4b-43f7-8cae-22b24a628f7e",
   "metadata": {},
   "outputs": [
    {
     "data": {
      "text/plain": [
       "array([[1., 0., 0., 0.],\n",
       "       [0., 1., 0., 0.],\n",
       "       [0., 0., 1., 0.],\n",
       "       [0., 0., 0., 1.]])"
      ]
     },
     "execution_count": 6,
     "metadata": {},
     "output_type": "execute_result"
    }
   ],
   "source": [
    "idn_matrix=np.eye(4)\n",
    "idn_matrix"
   ]
  },
  {
   "cell_type": "markdown",
   "id": "f98bcaf1",
   "metadata": {},
   "source": [
    "### 7. Reshape 1D array to 2D."
   ]
  },
  {
   "cell_type": "code",
   "execution_count": 7,
   "id": "38a02975-81b8-44fc-a3d2-b65d4eb8477c",
   "metadata": {},
   "outputs": [
    {
     "data": {
      "text/plain": [
       "array([[1, 2],\n",
       "       [3, 4],\n",
       "       [5, 6]])"
      ]
     },
     "execution_count": 7,
     "metadata": {},
     "output_type": "execute_result"
    }
   ],
   "source": [
    "arr3=np.array([1,2,3,4,5,6])\n",
    "reshp1dTo2d=arr3.reshape((3,2))\n",
    "reshp1dTo2d"
   ]
  },
  {
   "cell_type": "markdown",
   "id": "7d03d242",
   "metadata": {},
   "source": [
    "### 8. Get the shape and dtype of an array."
   ]
  },
  {
   "cell_type": "code",
   "execution_count": 8,
   "id": "fe092926-d72b-42be-ad14-f99cf5d555cd",
   "metadata": {},
   "outputs": [
    {
     "data": {
      "text/plain": [
       "(6,)"
      ]
     },
     "execution_count": 8,
     "metadata": {},
     "output_type": "execute_result"
    }
   ],
   "source": [
    "arr3=np.array([1,2,3,4,5,6])\n",
    "arr3.shape"
   ]
  },
  {
   "cell_type": "code",
   "execution_count": 9,
   "id": "3b779525-432e-4ce3-be55-90682c8865f6",
   "metadata": {},
   "outputs": [
    {
     "data": {
      "text/plain": [
       "dtype('int32')"
      ]
     },
     "execution_count": 9,
     "metadata": {},
     "output_type": "execute_result"
    }
   ],
   "source": [
    "arr3.dtype"
   ]
  },
  {
   "cell_type": "markdown",
   "id": "f8ac921f",
   "metadata": {},
   "source": [
    "### 9. Reverse a NumPy array."
   ]
  },
  {
   "cell_type": "code",
   "execution_count": 10,
   "id": "41b0236f-0ca8-4c11-975b-5d3c140c22a5",
   "metadata": {},
   "outputs": [
    {
     "data": {
      "text/plain": [
       "array([6, 5, 4, 3, 2, 1])"
      ]
     },
     "execution_count": 10,
     "metadata": {},
     "output_type": "execute_result"
    }
   ],
   "source": [
    "arr3=np.array([1,2,3,4,5,6])\n",
    "rev_arr3=arr3[::-1]\n",
    "rev_arr3"
   ]
  },
  {
   "cell_type": "markdown",
   "id": "5af24276",
   "metadata": {},
   "source": [
    "### 10. Extract even numbers from an array."
   ]
  },
  {
   "cell_type": "code",
   "execution_count": 11,
   "id": "9150c312-c625-400c-b633-355cc08999b4",
   "metadata": {},
   "outputs": [
    {
     "data": {
      "text/plain": [
       "array([2, 4, 6])"
      ]
     },
     "execution_count": 11,
     "metadata": {},
     "output_type": "execute_result"
    }
   ],
   "source": [
    "even_arr=arr3[arr3%2==0]\n",
    "even_arr"
   ]
  },
  {
   "cell_type": "markdown",
   "id": "e49ee456",
   "metadata": {},
   "source": [
    "### 11. Find the max in each row."
   ]
  },
  {
   "cell_type": "code",
   "execution_count": 12,
   "id": "34739792-8c1a-4605-b93e-d05cdac1bd4d",
   "metadata": {},
   "outputs": [
    {
     "name": "stdout",
     "output_type": "stream",
     "text": [
      "Original array :\n",
      " [[ 3  5  6  1]\n",
      " [ 0  1  6 10]\n",
      " [ 2  5  4  8]]\n",
      "Maximum numbers in each row are : [ 6 10  8]\n"
     ]
    }
   ],
   "source": [
    "arr4=np.array([[3,5,6,1],[0,1,6,10],[2,5,4,8]])\n",
    "max_row=arr4.max(axis=1)\n",
    "print(\"Original array :\\n\",arr4)\n",
    "print(\"Maximum numbers in each row are :\",max_row)"
   ]
  },
  {
   "cell_type": "markdown",
   "id": "af60589c",
   "metadata": {},
   "source": [
    "### 12. Compute the mean, std, and median of an array."
   ]
  },
  {
   "cell_type": "code",
   "execution_count": 13,
   "id": "c3835eb0-9e37-4565-8f22-cc3ea42d9ada",
   "metadata": {},
   "outputs": [
    {
     "name": "stdout",
     "output_type": "stream",
     "text": [
      " Mean: 4.25 \n",
      " Standard deviation: 2.890357532670771 \n",
      " Median: 4.5\n"
     ]
    }
   ],
   "source": [
    "mean_arr4=np.mean(arr4)\n",
    "std_arr4=np.std(arr4)\n",
    "median_arr4=np.median(arr4)\n",
    "print(f\" Mean: {mean_arr4} \\n Standard deviation: {std_arr4} \\n Median: {median_arr4}\")"
   ]
  },
  {
   "cell_type": "markdown",
   "id": "872d701b",
   "metadata": {},
   "source": [
    "### 13. Stack two arrays vertically."
   ]
  },
  {
   "cell_type": "code",
   "execution_count": 14,
   "id": "cfa7734c-ec78-42f9-b4df-9ee1ec45ff19",
   "metadata": {},
   "outputs": [
    {
     "data": {
      "text/plain": [
       "array([[5, 3, 8, 9, 7, 3],\n",
       "       [2, 7, 1, 4, 8, 2]])"
      ]
     },
     "execution_count": 14,
     "metadata": {},
     "output_type": "execute_result"
    }
   ],
   "source": [
    "arr1=np.array([[5,3,8],[2,7,1]])\n",
    "arr3=np.array([[9,7,3],[4,8,2]])\n",
    "np.concatenate((arr1,arr3),axis=1) "
   ]
  },
  {
   "cell_type": "markdown",
   "id": "533a16f7",
   "metadata": {},
   "source": [
    "### 14. Stack two arrays horizontally."
   ]
  },
  {
   "cell_type": "code",
   "execution_count": 15,
   "id": "da01888a-e6d2-4a62-873c-9d774c9d73ce",
   "metadata": {},
   "outputs": [
    {
     "data": {
      "text/plain": [
       "array([[5, 3, 8],\n",
       "       [2, 7, 1],\n",
       "       [9, 7, 3],\n",
       "       [4, 8, 2]])"
      ]
     },
     "execution_count": 15,
     "metadata": {},
     "output_type": "execute_result"
    }
   ],
   "source": [
    "arr1=np.array([[5,3,8],[2,7,1]])\n",
    "arr3=np.array([[9,7,3],[4,8,2]])\n",
    "np.concatenate((arr1,arr3),axis=0) "
   ]
  },
  {
   "cell_type": "markdown",
   "id": "4e877ea8",
   "metadata": {},
   "source": [
    "### 15. Find the unique values and their counts."
   ]
  },
  {
   "cell_type": "code",
   "execution_count": 16,
   "id": "7a8a69de-27cd-4843-b44e-518548e5219f",
   "metadata": {},
   "outputs": [
    {
     "name": "stdout",
     "output_type": "stream",
     "text": [
      " Unique values: [ 0  1  2  3  4  5  6  8 10]\n",
      " Counts: [1 2 1 1 1 2 2 1 1]\n"
     ]
    }
   ],
   "source": [
    "arr4=np.array([[3,5,6,1],[0,1,6,10],[2,5,4,8]])\n",
    "unique_values,counts=np.unique(arr4,return_counts=True)\n",
    "print(f\" Unique values: {unique_values}\\n Counts: {counts}\")"
   ]
  },
  {
   "cell_type": "markdown",
   "id": "879b38d0",
   "metadata": {},
   "source": [
    "### 16. Replace NaN with column means."
   ]
  },
  {
   "cell_type": "code",
   "execution_count": 26,
   "id": "3505bdba-3eb1-4e24-b0bb-1a2583edf5a7",
   "metadata": {},
   "outputs": [
    {
     "name": "stdout",
     "output_type": "stream",
     "text": [
      "Original Array:\n",
      "[[250.  nan]\n",
      " [175. 300.]\n",
      " [ nan 220.]]\n",
      "Array after NaN values replaced by column means:\n",
      "[[250.  260. ]\n",
      " [175.  300. ]\n",
      " [212.5 220. ]]\n"
     ]
    }
   ],
   "source": [
    "r_data1=np.array([[250,np.nan],[175,300],[np.nan,220]])\n",
    "col_mean1=np.nanmean(r_data1,axis=0)\n",
    "r_data_fill1=np.where(np.isnan(r_data1),col_mean1,r_data1)\n",
    "print(f\"Original Array:\\n{r_data1}\")\n",
    "print(f\"Array after NaN values replaced by column means:\\n{r_data_fill1}\")"
   ]
  },
  {
   "cell_type": "markdown",
   "id": "9fa051df",
   "metadata": {},
   "source": [
    "### 17. Get index of min and max values."
   ]
  },
  {
   "cell_type": "code",
   "execution_count": 22,
   "id": "8f9a10ad-1564-47e2-a4cf-5c61e316f20a",
   "metadata": {},
   "outputs": [
    {
     "name": "stdout",
     "output_type": "stream",
     "text": [
      "Original array: [6 3 8 2 0 7]\n",
      "Index of minimum value : 4\n",
      "Index of maximum value : 2\n"
     ]
    }
   ],
   "source": [
    "gim_arr=np.array([6,3,8,2,0,7])\n",
    "ind_min=np.argmin(gim_arr)\n",
    "ind_max=np.argmax(gim_arr)\n",
    "print(f\"Original array: {gim_arr}\")\n",
    "print(\"Index of minimum value :\",ind_min)\n",
    "print(\"Index of maximum value :\",ind_max)"
   ]
  },
  {
   "cell_type": "markdown",
   "id": "ea1257d4",
   "metadata": {},
   "source": [
    "### 18. Create a 3D array of random integers."
   ]
  },
  {
   "cell_type": "code",
   "execution_count": 25,
   "id": "94a56905-c5e9-4252-9a94-a80f502c1ecf",
   "metadata": {},
   "outputs": [
    {
     "data": {
      "text/plain": [
       "array([[[82, 50, 78],\n",
       "        [98, 71, 84]],\n",
       "\n",
       "       [[45, 47, 53],\n",
       "        [76, 75, 45]],\n",
       "\n",
       "       [[19, 94,  9],\n",
       "        [85, 91, 81]]])"
      ]
     },
     "execution_count": 25,
     "metadata": {},
     "output_type": "execute_result"
    }
   ],
   "source": [
    "rand_3D_arr=np.random.randint(100,size=(3,2,3))\n",
    "rand_3D_arr"
   ]
  },
  {
   "cell_type": "markdown",
   "id": "61844a5c",
   "metadata": {},
   "source": [
    "### 19. Use np.where() to replace values."
   ]
  },
  {
   "cell_type": "code",
   "execution_count": 27,
   "id": "9aee736f-9c6c-4767-b1c2-e69982320410",
   "metadata": {},
   "outputs": [
    {
     "name": "stdout",
     "output_type": "stream",
     "text": [
      "Original Array:\n",
      "[[250.  nan]\n",
      " [175. 300.]\n",
      " [315. 220.]]\n",
      "After replacement of NaN values the Array:\n",
      "[[250. 278.]\n",
      " [175. 300.]\n",
      " [315. 220.]]\n"
     ]
    }
   ],
   "source": [
    "r_data2=np.array([[250,np.nan],[175,300],[315,220]])\n",
    "#col_mean=np.nanmean(r_data,axis=0)\n",
    "r_data_fill2=np.where(np.isnan(r_data2),278,r_data2)\n",
    "print(f\"Original Array:\\n{r_data2}\")\n",
    "print(f\"After replacement of NaN values the Array:\\n{r_data_fill2}\")"
   ]
  },
  {
   "cell_type": "markdown",
   "id": "2f74ec47",
   "metadata": {
    "vscode": {
     "languageId": "plaintext"
    }
   },
   "source": [
    "### Pandas "
   ]
  },
  {
   "cell_type": "markdown",
   "id": "30bece49",
   "metadata": {},
   "source": [
    "### 1. Create a Series using a Python list."
   ]
  },
  {
   "cell_type": "code",
   "execution_count": 1,
   "id": "1250f8a1-5ba8-4e11-8833-032963470bd3",
   "metadata": {},
   "outputs": [
    {
     "data": {
      "text/plain": [
       "0    10\n",
       "1    20\n",
       "2    30\n",
       "3    40\n",
       "4    50\n",
       "dtype: int64"
      ]
     },
     "execution_count": 1,
     "metadata": {},
     "output_type": "execute_result"
    }
   ],
   "source": [
    "import pandas as pd\n",
    "ser1=pd.Series([10,20,30,40,50])\n",
    "ser1"
   ]
  },
  {
   "cell_type": "markdown",
   "id": "9a7038c5",
   "metadata": {},
   "source": [
    "### 2. Create a Series with custom string indices."
   ]
  },
  {
   "cell_type": "code",
   "execution_count": 2,
   "id": "42739c4e-211c-4b71-b117-e90bc64107b8",
   "metadata": {},
   "outputs": [
    {
     "data": {
      "text/plain": [
       "A    10\n",
       "B    20\n",
       "C    30\n",
       "D    40\n",
       "E    50\n",
       "dtype: int64"
      ]
     },
     "execution_count": 2,
     "metadata": {},
     "output_type": "execute_result"
    }
   ],
   "source": [
    "ser1=pd.Series([10,20,30,40,50],index=[\"A\",\"B\",\"C\",\"D\",\"E\"])\n",
    "ser1"
   ]
  },
  {
   "cell_type": "markdown",
   "id": "19ae6db0",
   "metadata": {},
   "source": [
    "### 3. Create a Series from a dictionary."
   ]
  },
  {
   "cell_type": "code",
   "execution_count": 3,
   "id": "655c3a5c-1bad-4004-969c-d854e9e6431c",
   "metadata": {},
   "outputs": [
    {
     "data": {
      "text/plain": [
       "Rent         2500\n",
       "Grocery      3000\n",
       "Transport    2000\n",
       "Insurance    5000\n",
       "dtype: int64"
      ]
     },
     "execution_count": 3,
     "metadata": {},
     "output_type": "execute_result"
    }
   ],
   "source": [
    "expense_dict={'Rent':2500,'Grocery':3000,'Transport':2000,'Insurance':5000}\n",
    "expense_series=pd.Series(expense_dict)\n",
    "expense_series"
   ]
  },
  {
   "cell_type": "markdown",
   "id": "d505873f",
   "metadata": {},
   "source": [
    "### 4. Access first 3 elements of a Series."
   ]
  },
  {
   "cell_type": "code",
   "execution_count": 5,
   "id": "5e5d5e0f-b4cc-47a0-8a28-b03506e5c278",
   "metadata": {},
   "outputs": [
    {
     "data": {
      "text/plain": [
       "Rent         2500\n",
       "Grocery      3000\n",
       "Transport    2000\n",
       "dtype: int64"
      ]
     },
     "execution_count": 5,
     "metadata": {},
     "output_type": "execute_result"
    }
   ],
   "source": [
    "expense_series[:3]"
   ]
  },
  {
   "cell_type": "markdown",
   "id": "8f759ac0",
   "metadata": {},
   "source": [
    "### 5. Filter Series elements greater than 50."
   ]
  },
  {
   "cell_type": "code",
   "execution_count": 7,
   "id": "2a006ea6-fa1f-42f7-8509-df56e42a7f59",
   "metadata": {},
   "outputs": [
    {
     "data": {
      "text/plain": [
       "2    60\n",
       "3    80\n",
       "dtype: int64"
      ]
     },
     "execution_count": 7,
     "metadata": {},
     "output_type": "execute_result"
    }
   ],
   "source": [
    "ser2=pd.Series([20,40,60,80])\n",
    "filtered_ser2=ser2[ser2>50]\n",
    "filtered_ser2"
   ]
  },
  {
   "cell_type": "markdown",
   "id": "86562d48",
   "metadata": {},
   "source": [
    "### 6. Add two Series with different indices."
   ]
  },
  {
   "cell_type": "code",
   "execution_count": 10,
   "id": "5ded551f-ed23-4de6-8205-6355e3789971",
   "metadata": {},
   "outputs": [
    {
     "data": {
      "text/plain": [
       "A     10.0\n",
       "B     20.0\n",
       "C     30.0\n",
       "D     40.0\n",
       "E     50.0\n",
       "a     10.0\n",
       "b    200.0\n",
       "c    300.0\n",
       "d    400.0\n",
       "e    500.0\n",
       "dtype: float64"
      ]
     },
     "execution_count": 10,
     "metadata": {},
     "output_type": "execute_result"
    }
   ],
   "source": [
    "ser1=pd.Series([10,20,30,40,50],index=[\"A\",\"B\",\"C\",\"D\",\"E\"])\n",
    "ser2=pd.Series([10,200,300,400,500],index=[\"a\",\"b\",\"c\",\"d\",\"e\"])\n",
    "ser1.add(ser2,fill_value=0)"
   ]
  },
  {
   "cell_type": "markdown",
   "id": "b09aa6fa",
   "metadata": {},
   "source": [
    "### 7. Multiply a Series by a scalar."
   ]
  },
  {
   "cell_type": "code",
   "execution_count": 12,
   "id": "0d434ef4-0f5c-4238-9e8a-c900d2748b16",
   "metadata": {},
   "outputs": [
    {
     "name": "stdout",
     "output_type": "stream",
     "text": [
      "Original series:\n",
      "A    10\n",
      "B    20\n",
      "C    30\n",
      "D    40\n",
      "E    50\n",
      "dtype: int64\n",
      "After scalar multiplication, Series is:\n",
      "A     20\n",
      "B     40\n",
      "C     60\n",
      "D     80\n",
      "E    100\n",
      "dtype: int64\n"
     ]
    }
   ],
   "source": [
    "ser1=pd.Series([10,20,30,40,50],index=[\"A\",\"B\",\"C\",\"D\",\"E\"])\n",
    "print(f\"Original series:\\n{ser1}\\nAfter scalar multiplication, Series is:\\n{ser1*2}\")"
   ]
  },
  {
   "cell_type": "markdown",
   "id": "18f4cc3d",
   "metadata": {},
   "source": [
    "### 8. Use .multiply() method to multiply with scalar."
   ]
  },
  {
   "cell_type": "code",
   "execution_count": 13,
   "id": "30f47c99-8f6b-4cfa-af47-221fe07a067a",
   "metadata": {},
   "outputs": [
    {
     "name": "stdout",
     "output_type": "stream",
     "text": [
      "Original series:\n",
      "A    10\n",
      "B    20\n",
      "C    30\n",
      "D    40\n",
      "E    50\n",
      "dtype: int64\n",
      "After scalar multiplication, Series is:\n",
      "A     20\n",
      "B     40\n",
      "C     60\n",
      "D     80\n",
      "E    100\n",
      "dtype: int64\n"
     ]
    }
   ],
   "source": [
    "ser1=pd.Series([10,20,30,40,50],index=[\"A\",\"B\",\"C\",\"D\",\"E\"])\n",
    "print(f\"Original series:\\n{ser1}\\nAfter scalar multiplication, Series is:\\n{ser1.multiply(2)}\")"
   ]
  },
  {
   "cell_type": "markdown",
   "id": "ef461afc",
   "metadata": {},
   "source": [
    "### 9. Sort Series by values descending."
   ]
  },
  {
   "cell_type": "code",
   "execution_count": 17,
   "id": "01814fb4-ec1d-4caa-bb14-d8baf7bb2839",
   "metadata": {},
   "outputs": [
    {
     "name": "stdout",
     "output_type": "stream",
     "text": [
      "Before sorting, Series is:\n",
      "A    10\n",
      "B    20\n",
      "C    30\n",
      "D    40\n",
      "E    50\n",
      "dtype: int64\n",
      "Before sorting, Series is:\n",
      "E    50\n",
      "D    40\n",
      "C    30\n",
      "B    20\n",
      "A    10\n",
      "dtype: int64\n"
     ]
    }
   ],
   "source": [
    "print(f\"Before sorting, Series is:\\n{ser1}\")\n",
    "print(f\"Before sorting, Series is:\\n{ser1.sort_values(ascending=False)}\")"
   ]
  },
  {
   "cell_type": "markdown",
   "id": "9cd5b813",
   "metadata": {},
   "source": [
    "### 10. Sort Series by index."
   ]
  },
  {
   "cell_type": "code",
   "execution_count": 18,
   "id": "1af276ae-e81f-4596-8a49-d9097bb6dd11",
   "metadata": {},
   "outputs": [
    {
     "data": {
      "text/plain": [
       "j    50\n",
       "k    30\n",
       "l    10\n",
       "m    70\n",
       "n    80\n",
       "dtype: int64"
      ]
     },
     "execution_count": 18,
     "metadata": {},
     "output_type": "execute_result"
    }
   ],
   "source": [
    "ser3=pd.Series([70,50,10,30,80],index=[\"m\",\"j\",\"l\",\"k\",\"n\"])\n",
    "ser3.sort_index()"
   ]
  },
  {
   "cell_type": "markdown",
   "id": "da4cc61b",
   "metadata": {},
   "source": [
    "### 11. Check for null values."
   ]
  },
  {
   "cell_type": "code",
   "execution_count": 20,
   "id": "e674e5eb-ad94-41ac-a88f-5bb444e67565",
   "metadata": {},
   "outputs": [
    {
     "data": {
      "text/plain": [
       "m    False\n",
       "j    False\n",
       "l    False\n",
       "k     True\n",
       "n    False\n",
       "dtype: bool"
      ]
     },
     "execution_count": 20,
     "metadata": {},
     "output_type": "execute_result"
    }
   ],
   "source": [
    "ser4=pd.Series([70,50,10,np.nan,80],index=[\"m\",\"j\",\"l\",\"k\",\"n\"])\n",
    "ser4.isnull()"
   ]
  },
  {
   "cell_type": "markdown",
   "id": "6c34d1a5",
   "metadata": {},
   "source": [
    "### 12. Concatenate two Series using concat()"
   ]
  },
  {
   "cell_type": "code",
   "execution_count": 22,
   "id": "27160684-eaf3-4e50-9e05-58a61e4066ab",
   "metadata": {},
   "outputs": [
    {
     "data": {
      "text/plain": [
       "A     10\n",
       "B     20\n",
       "C     30\n",
       "D     40\n",
       "E     50\n",
       "a     10\n",
       "b    200\n",
       "c    300\n",
       "d    400\n",
       "e    500\n",
       "dtype: int64"
      ]
     },
     "execution_count": 22,
     "metadata": {},
     "output_type": "execute_result"
    }
   ],
   "source": [
    "ser1=pd.Series([10,20,30,40,50],index=[\"A\",\"B\",\"C\",\"D\",\"E\"])\n",
    "ser2=pd.Series([10,200,300,400,500],index=[\"a\",\"b\",\"c\",\"d\",\"e\"])\n",
    "pd.concat([ser1,ser2])"
   ]
  },
  {
   "cell_type": "markdown",
   "id": "ec9793a2",
   "metadata": {},
   "source": [
    "### 13. Concatenate two Series using append()."
   ]
  },
  {
   "cell_type": "code",
   "execution_count": 24,
   "id": "97b7844e-3b24-46cb-9f97-56c8dffe1ac3",
   "metadata": {},
   "outputs": [],
   "source": [
    "ser1=pd.Series([10,20,30])\n",
    "ser2=pd.Series([40,50])\n",
    "#append() is deprecated now.\n",
    "#ser1.append(ser2,ignore_index=True)"
   ]
  },
  {
   "cell_type": "markdown",
   "id": "640d8e91",
   "metadata": {},
   "source": [
    "### 14. Retrieve first 5 elements using .head()"
   ]
  },
  {
   "cell_type": "code",
   "execution_count": 26,
   "id": "6d881942-5d6c-436a-98b5-abad34856433",
   "metadata": {},
   "outputs": [
    {
     "data": {
      "text/html": [
       "<div>\n",
       "<style scoped>\n",
       "    .dataframe tbody tr th:only-of-type {\n",
       "        vertical-align: middle;\n",
       "    }\n",
       "\n",
       "    .dataframe tbody tr th {\n",
       "        vertical-align: top;\n",
       "    }\n",
       "\n",
       "    .dataframe thead th {\n",
       "        text-align: right;\n",
       "    }\n",
       "</style>\n",
       "<table border=\"1\" class=\"dataframe\">\n",
       "  <thead>\n",
       "    <tr style=\"text-align: right;\">\n",
       "      <th></th>\n",
       "      <th>0</th>\n",
       "    </tr>\n",
       "  </thead>\n",
       "  <tbody>\n",
       "    <tr>\n",
       "      <th>0</th>\n",
       "      <td>Python</td>\n",
       "    </tr>\n",
       "    <tr>\n",
       "      <th>1</th>\n",
       "      <td>Numpy</td>\n",
       "    </tr>\n",
       "    <tr>\n",
       "      <th>2</th>\n",
       "      <td>Pandas</td>\n",
       "    </tr>\n",
       "    <tr>\n",
       "      <th>3</th>\n",
       "      <td>Matplotlib</td>\n",
       "    </tr>\n",
       "    <tr>\n",
       "      <th>4</th>\n",
       "      <td>Statistics</td>\n",
       "    </tr>\n",
       "  </tbody>\n",
       "</table>\n",
       "</div>"
      ],
      "text/plain": [
       "            0\n",
       "0      Python\n",
       "1       Numpy\n",
       "2      Pandas\n",
       "3  Matplotlib\n",
       "4  Statistics"
      ]
     },
     "execution_count": 26,
     "metadata": {},
     "output_type": "execute_result"
    }
   ],
   "source": [
    "df=pd.DataFrame(['Python','Numpy','Pandas','Matplotlib','Statistics','ML Algorithm','Deep Learning'])\n",
    "df.head(5)"
   ]
  },
  {
   "cell_type": "markdown",
   "id": "70fddb7b",
   "metadata": {},
   "source": [
    "### 15. Retrieve last 5 elements using .tail()"
   ]
  },
  {
   "cell_type": "code",
   "execution_count": 28,
   "id": "11c4b053-995c-496d-bda1-476e489478c0",
   "metadata": {},
   "outputs": [
    {
     "data": {
      "text/html": [
       "<div>\n",
       "<style scoped>\n",
       "    .dataframe tbody tr th:only-of-type {\n",
       "        vertical-align: middle;\n",
       "    }\n",
       "\n",
       "    .dataframe tbody tr th {\n",
       "        vertical-align: top;\n",
       "    }\n",
       "\n",
       "    .dataframe thead th {\n",
       "        text-align: right;\n",
       "    }\n",
       "</style>\n",
       "<table border=\"1\" class=\"dataframe\">\n",
       "  <thead>\n",
       "    <tr style=\"text-align: right;\">\n",
       "      <th></th>\n",
       "      <th>0</th>\n",
       "    </tr>\n",
       "  </thead>\n",
       "  <tbody>\n",
       "    <tr>\n",
       "      <th>2</th>\n",
       "      <td>Pandas</td>\n",
       "    </tr>\n",
       "    <tr>\n",
       "      <th>3</th>\n",
       "      <td>Matplotlib</td>\n",
       "    </tr>\n",
       "    <tr>\n",
       "      <th>4</th>\n",
       "      <td>Statistics</td>\n",
       "    </tr>\n",
       "    <tr>\n",
       "      <th>5</th>\n",
       "      <td>ML Algorithm</td>\n",
       "    </tr>\n",
       "    <tr>\n",
       "      <th>6</th>\n",
       "      <td>Deep Learning</td>\n",
       "    </tr>\n",
       "  </tbody>\n",
       "</table>\n",
       "</div>"
      ],
      "text/plain": [
       "               0\n",
       "2         Pandas\n",
       "3     Matplotlib\n",
       "4     Statistics\n",
       "5   ML Algorithm\n",
       "6  Deep Learning"
      ]
     },
     "execution_count": 28,
     "metadata": {},
     "output_type": "execute_result"
    }
   ],
   "source": [
    "df1=pd.DataFrame(['Python','Numpy','Pandas','Matplotlib','Statistics','ML Algorithm','Deep Learning'])\n",
    "df1.tail(5)"
   ]
  },
  {
   "cell_type": "markdown",
   "id": "2294bda2",
   "metadata": {},
   "source": [
    "### 16. Convert Series to DataFrame."
   ]
  },
  {
   "cell_type": "code",
   "execution_count": 30,
   "id": "356c40db-dc20-4a49-b85e-994e6e4ee8c4",
   "metadata": {},
   "outputs": [
    {
     "data": {
      "text/html": [
       "<div>\n",
       "<style scoped>\n",
       "    .dataframe tbody tr th:only-of-type {\n",
       "        vertical-align: middle;\n",
       "    }\n",
       "\n",
       "    .dataframe tbody tr th {\n",
       "        vertical-align: top;\n",
       "    }\n",
       "\n",
       "    .dataframe thead th {\n",
       "        text-align: right;\n",
       "    }\n",
       "</style>\n",
       "<table border=\"1\" class=\"dataframe\">\n",
       "  <thead>\n",
       "    <tr style=\"text-align: right;\">\n",
       "      <th></th>\n",
       "      <th>0</th>\n",
       "    </tr>\n",
       "  </thead>\n",
       "  <tbody>\n",
       "    <tr>\n",
       "      <th>0</th>\n",
       "      <td>20</td>\n",
       "    </tr>\n",
       "    <tr>\n",
       "      <th>1</th>\n",
       "      <td>40</td>\n",
       "    </tr>\n",
       "    <tr>\n",
       "      <th>2</th>\n",
       "      <td>60</td>\n",
       "    </tr>\n",
       "    <tr>\n",
       "      <th>3</th>\n",
       "      <td>80</td>\n",
       "    </tr>\n",
       "  </tbody>\n",
       "</table>\n",
       "</div>"
      ],
      "text/plain": [
       "    0\n",
       "0  20\n",
       "1  40\n",
       "2  60\n",
       "3  80"
      ]
     },
     "execution_count": 30,
     "metadata": {},
     "output_type": "execute_result"
    }
   ],
   "source": [
    "ser2=pd.Series([20,40,60,80])\n",
    "df2=ser2.to_frame()\n",
    "df2"
   ]
  },
  {
   "cell_type": "markdown",
   "id": "fae5cb5e",
   "metadata": {},
   "source": [
    "### 17. Replace NaN with 0."
   ]
  },
  {
   "cell_type": "code",
   "execution_count": 33,
   "id": "0befbcc7-010c-4c0d-a73b-28b8b99d8a86",
   "metadata": {},
   "outputs": [
    {
     "data": {
      "text/plain": [
       "0    1.0\n",
       "1    2.0\n",
       "2    0.0\n",
       "3    5.0\n",
       "4    8.0\n",
       "5    0.0\n",
       "dtype: float64"
      ]
     },
     "execution_count": 33,
     "metadata": {},
     "output_type": "execute_result"
    }
   ],
   "source": [
    "ser5=pd.Series([1,2,np.nan,5,8,np.nan])\n",
    "new_ser5=ser5.fillna(0)\n",
    "new_ser5"
   ]
  },
  {
   "cell_type": "markdown",
   "id": "410fb0f9",
   "metadata": {},
   "source": [
    "### 18. Drop missing values."
   ]
  },
  {
   "cell_type": "code",
   "execution_count": 34,
   "id": "1ba06703-4052-479e-81b2-2e26fedcc6f1",
   "metadata": {},
   "outputs": [
    {
     "data": {
      "text/plain": [
       "0    1.0\n",
       "1    2.0\n",
       "3    5.0\n",
       "4    8.0\n",
       "dtype: float64"
      ]
     },
     "execution_count": 34,
     "metadata": {},
     "output_type": "execute_result"
    }
   ],
   "source": [
    "ser5=pd.Series([1,2,np.nan,5,8,np.nan])\n",
    "new_ser5=ser5.dropna()\n",
    "new_ser5"
   ]
  },
  {
   "cell_type": "markdown",
   "id": "8cd11f96",
   "metadata": {},
   "source": [
    "### 19. Check Series data type."
   ]
  },
  {
   "cell_type": "code",
   "execution_count": 36,
   "id": "d12fb3ba-13cc-42fc-ab87-bd23d10333b1",
   "metadata": {},
   "outputs": [
    {
     "data": {
      "text/plain": [
       "dtype('float64')"
      ]
     },
     "execution_count": 36,
     "metadata": {},
     "output_type": "execute_result"
    }
   ],
   "source": [
    "ser5=pd.Series([1,2,np.nan,5,8,np.nan])\n",
    "new_ser5.dtype"
   ]
  }
 ],
 "metadata": {
  "kernelspec": {
   "display_name": "Python [conda env:base] *",
   "language": "python",
   "name": "conda-base-py"
  },
  "language_info": {
   "codemirror_mode": {
    "name": "ipython",
    "version": 3
   },
   "file_extension": ".py",
   "mimetype": "text/x-python",
   "name": "python",
   "nbconvert_exporter": "python",
   "pygments_lexer": "ipython3",
   "version": "3.12.7"
  }
 },
 "nbformat": 4,
 "nbformat_minor": 5
}
