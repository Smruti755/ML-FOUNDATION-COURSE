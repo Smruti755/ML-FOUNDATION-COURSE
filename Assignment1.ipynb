{
 "cells": [
  {
   "cell_type": "code",
   "execution_count": 3,
   "id": "53db6f8b-0a64-48c0-a9e2-7ad07db20d57",
   "metadata": {},
   "outputs": [
    {
     "name": "stdout",
     "output_type": "stream",
     "text": [
      "1\n",
      "2\n",
      "3\n",
      "4\n",
      "5\n",
      "6\n",
      "7\n",
      "8\n",
      "9\n",
      "10\n"
     ]
    }
   ],
   "source": [
    "#1. Print numbers from 1 to 10. \n",
    "for i in range(1,11):\n",
    "    print(i)"
   ]
  },
  {
   "cell_type": "code",
   "execution_count": 4,
   "id": "fd38af80-5184-45e6-862a-fe21ec795c57",
   "metadata": {},
   "outputs": [
    {
     "name": "stdout",
     "output_type": "stream",
     "text": [
      "2\n",
      "4\n",
      "6\n",
      "8\n",
      "10\n"
     ]
    }
   ],
   "source": [
    "#2. Print even numbers from 1 to 20.\n",
    "for i in range(1,11):\n",
    "    if(i%2==0):\n",
    "        print(i)"
   ]
  },
  {
   "cell_type": "code",
   "execution_count": 8,
   "id": "2fb5ea8b-b729-4a74-94aa-3fd3530d4a9b",
   "metadata": {},
   "outputs": [
    {
     "name": "stdin",
     "output_type": "stream",
     "text": [
      "Enter a number:  5\n"
     ]
    },
    {
     "name": "stdout",
     "output_type": "stream",
     "text": [
      "5 is positive.\n"
     ]
    }
   ],
   "source": [
    "#3. Check if a number is positive, negative or zero.\n",
    "num = int(input(\"Enter a number: \"))\n",
    "if(num > 0):\n",
    "    print(num , \"is positive.\")\n",
    "elif(num < 0):\n",
    "    print(num , \"is negative.\")\n",
    "else:\n",
    "    print(num , \"is zero.\")"
   ]
  },
  {
   "cell_type": "code",
   "execution_count": 15,
   "id": "9c8e2554-8dbf-496c-82de-11a844772c85",
   "metadata": {},
   "outputs": [
    {
     "name": "stdin",
     "output_type": "stream",
     "text": [
      "Enter 1st number:  1\n",
      "Enter 2nd number:  5\n"
     ]
    },
    {
     "name": "stdout",
     "output_type": "stream",
     "text": [
      "Addition =  6\n"
     ]
    }
   ],
   "source": [
    "#4. Add two numbers using operators. \n",
    "a = int(input(\"Enter 1st number: \"))\n",
    "b = int(input(\"Enter 2nd number: \"))\n",
    "print(\"Addition = \",(a+b))"
   ]
  },
  {
   "cell_type": "code",
   "execution_count": 16,
   "id": "4a0b2da6-64b6-4cef-9322-4e5d865cea47",
   "metadata": {},
   "outputs": [
    {
     "name": "stdin",
     "output_type": "stream",
     "text": [
      "Enter a number:  3\n"
     ]
    },
    {
     "name": "stdout",
     "output_type": "stream",
     "text": [
      "3 * 1 = 3\n",
      "3 * 2 = 6\n",
      "3 * 3 = 9\n",
      "3 * 4 = 12\n",
      "3 * 5 = 15\n",
      "3 * 6 = 18\n",
      "3 * 7 = 21\n",
      "3 * 8 = 24\n",
      "3 * 9 = 27\n",
      "3 * 10 = 30\n"
     ]
    }
   ],
   "source": [
    "#5. Print multiplication table of a number.\n",
    "num = int(input(\"Enter a number: \"))\n",
    "for i in range(1,11):\n",
    "    print(num,\"*\",i,\"=\",(num*i))"
   ]
  },
  {
   "cell_type": "code",
   "execution_count": 17,
   "id": "7400bde2-169e-43ad-ba15-b5e838c3270b",
   "metadata": {},
   "outputs": [
    {
     "name": "stdin",
     "output_type": "stream",
     "text": [
      "Enter 1st number:  3\n",
      "Enter 2nd number:  7\n"
     ]
    },
    {
     "name": "stdout",
     "output_type": "stream",
     "text": [
      "Largest number is :  7\n"
     ]
    }
   ],
   "source": [
    "#6. Find the largest among two numbers. \n",
    "a = int(input(\"Enter 1st number: \"))\n",
    "b = int(input(\"Enter 2nd number: \"))\n",
    "if(a>b):\n",
    "    print(\"Largest number is : \",a)\n",
    "else:\n",
    "    print(\"Largest number is : \",b)"
   ]
  },
  {
   "cell_type": "code",
   "execution_count": 19,
   "id": "7b416528-2294-44a7-b9f0-faa29ae36a76",
   "metadata": {},
   "outputs": [
    {
     "name": "stdout",
     "output_type": "stream",
     "text": [
      "5\n",
      "4\n",
      "3\n",
      "2\n",
      "1\n"
     ]
    }
   ],
   "source": [
    "#7. Use a while loop to print numbers 5 to 1. \n",
    "i=5\n",
    "while(i>=1):\n",
    "    print(i)\n",
    "    i-=1"
   ]
  },
  {
   "cell_type": "code",
   "execution_count": 20,
   "id": "f4a28abf-cc22-4c29-893e-3b5dc7eaa509",
   "metadata": {},
   "outputs": [
    {
     "name": "stdout",
     "output_type": "stream",
     "text": [
      "H\n",
      "e\n",
      "l\n",
      "l\n",
      "o\n",
      "!\n"
     ]
    }
   ],
   "source": [
    "#8. Print all characters in a string.\n",
    "word=\"Hello!\"\n",
    "for char in word:\n",
    "    print(char)"
   ]
  },
  {
   "cell_type": "code",
   "execution_count": 24,
   "id": "b6975b5b-8439-4976-9d19-cb78f0a84afd",
   "metadata": {},
   "outputs": [
    {
     "name": "stdin",
     "output_type": "stream",
     "text": [
      "Enter a number:  45\n"
     ]
    },
    {
     "name": "stdout",
     "output_type": "stream",
     "text": [
      "The number is between 10 & 50\n"
     ]
    }
   ],
   "source": [
    "#9. Use logical operator to check if a number is between 10 and 50.\n",
    "num = int(input(\"Enter a number: \"))\n",
    "if(num>10 and num<50):\n",
    "    print(\"The number is between 10 & 50\")\n",
    "else:\n",
    "    print(\"The number is not between 10 & 50\")"
   ]
  },
  {
   "cell_type": "code",
   "execution_count": 25,
   "id": "eb35e5d9-5a8c-4011-97e7-3496344d12f9",
   "metadata": {},
   "outputs": [
    {
     "name": "stdout",
     "output_type": "stream",
     "text": [
      "55\n"
     ]
    }
   ],
   "source": [
    "#10. Sum of first 10 natural numbers. \n",
    "sum=0\n",
    "for i in range(1,11):\n",
    "    sum+=i\n",
    "print(sum)"
   ]
  },
  {
   "cell_type": "code",
   "execution_count": 27,
   "id": "73512a98-532c-402f-86c2-d00cbfb7c7b2",
   "metadata": {},
   "outputs": [
    {
     "name": "stdout",
     "output_type": "stream",
     "text": [
      "Even numbers for 1 to 10 are:\n",
      "2\n",
      "4\n",
      "6\n",
      "8\n",
      "10\n",
      "Odd numbers for 1 to 10 are:\n",
      "1\n",
      "3\n",
      "5\n",
      "7\n",
      "9\n"
     ]
    }
   ],
   "source": [
    "#11. Print \"Odd\" or \"Even\" for numbers 1 to 10.\n",
    "print(\"Even numbers for 1 to 10 are:\")\n",
    "for i in range(1,11):\n",
    "    if(i%2==0):\n",
    "        print(i)\n",
    "print(\"Odd numbers for 1 to 10 are:\")        \n",
    "for i in range(1,11):\n",
    "    if(i%2!=0):\n",
    "        print(i)"
   ]
  },
  {
   "cell_type": "code",
   "execution_count": 28,
   "id": "9cf135b0-3211-4616-adde-c112896e9687",
   "metadata": {},
   "outputs": [
    {
     "name": "stdout",
     "output_type": "stream",
     "text": [
      "1\n",
      "2\n",
      "3\n",
      "4\n"
     ]
    }
   ],
   "source": [
    "#12. Use “break” to stop loop when number is 5.\n",
    "for i in range(1,10):\n",
    "    if(i==5):\n",
    "        break\n",
    "    print(i)"
   ]
  },
  {
   "cell_type": "code",
   "execution_count": 29,
   "id": "1c386133-1daf-46e1-b5f5-f11e3f2e3b39",
   "metadata": {},
   "outputs": [
    {
     "name": "stdout",
     "output_type": "stream",
     "text": [
      "1\n",
      "2\n",
      "3\n",
      "4\n",
      "6\n",
      "7\n",
      "8\n",
      "9\n"
     ]
    }
   ],
   "source": [
    "#13. Print 1 to 10 and use continue to skip printing 5.\n",
    "for i in range(1,10):\n",
    "    if(i==5):\n",
    "        continue\n",
    "    print(i)"
   ]
  },
  {
   "cell_type": "code",
   "execution_count": 30,
   "id": "ef0005d6-663e-4e24-a943-d8a1519dc665",
   "metadata": {},
   "outputs": [
    {
     "name": "stdout",
     "output_type": "stream",
     "text": [
      "10\n",
      "20\n",
      "30\n",
      "40\n"
     ]
    }
   ],
   "source": [
    "#14. Print all elements in a list using a loop. \n",
    "my_list = [10,20,30,40]\n",
    "for i in my_list:\n",
    "    print(i)"
   ]
  },
  {
   "cell_type": "code",
   "execution_count": 39,
   "id": "0e268c26-2110-4c63-919a-37f28f79e9ae",
   "metadata": {},
   "outputs": [
    {
     "name": "stdin",
     "output_type": "stream",
     "text": [
      "Enter a number:  24\n"
     ]
    },
    {
     "name": "stdout",
     "output_type": "stream",
     "text": [
      "The number is not divisible by both 3 and 5.\n"
     ]
    }
   ],
   "source": [
    "#15. Check if a number is divisible by both 3 and 5.\n",
    "num = int(input(\"Enter a number: \"))\n",
    "if(num%3==0 and num%5==0):\n",
    "    print(\"The number is divisible by both 3 and 5.\")\n",
    "else:\n",
    "    print(\"The number is not divisible by both 3 and 5.\")"
   ]
  },
  {
   "cell_type": "code",
   "execution_count": 33,
   "id": "583dee5a-9c14-46af-992a-7042c7d30040",
   "metadata": {},
   "outputs": [
    {
     "name": "stdout",
     "output_type": "stream",
     "text": [
      "1\n",
      "4\n",
      "9\n",
      "16\n",
      "25\n"
     ]
    }
   ],
   "source": [
    "#16. Square of all numbers from 1 to 5.\n",
    "for i in range(1,6):\n",
    "    print(i**2)"
   ]
  },
  {
   "cell_type": "code",
   "execution_count": 35,
   "id": "0b9fba3b-482f-4b6f-9b78-dc6d4df405a7",
   "metadata": {},
   "outputs": [
    {
     "name": "stdout",
     "output_type": "stream",
     "text": [
      "72\n",
      "101\n",
      "108\n",
      "108\n",
      "111\n",
      "33\n"
     ]
    }
   ],
   "source": [
    "#17. Print ASCII values of characters in a string.\n",
    "word=\"Hello!\"\n",
    "for char in word:\n",
    "    print(ord(char))"
   ]
  },
  {
   "cell_type": "code",
   "execution_count": 36,
   "id": "e21cb99c-e708-4230-ae70-a45e1d010212",
   "metadata": {},
   "outputs": [
    {
     "name": "stdout",
     "output_type": "stream",
     "text": [
      "10\n"
     ]
    }
   ],
   "source": [
    "#18. Count down from 10 to 1 using while. \n",
    "count=0\n",
    "i=10\n",
    "while(i>=1):\n",
    "    count+=1\n",
    "    i-=1\n",
    "print(count)"
   ]
  },
  {
   "cell_type": "code",
   "execution_count": 40,
   "id": "1f09ab8c-7d53-4d6a-9159-cc7966761093",
   "metadata": {},
   "outputs": [
    {
     "name": "stdin",
     "output_type": "stream",
     "text": [
      "Enter a number:  4\n"
     ]
    },
    {
     "name": "stdout",
     "output_type": "stream",
     "text": [
      "The number is divisible by 2 or 3.\n"
     ]
    }
   ],
   "source": [
    "#19. Check if a number is divisible by 2 or 3. \n",
    "num = int(input(\"Enter a number: \"))\n",
    "if(num%2==0 or num%3==0):\n",
    "    print(\"The number is divisible by 2 or 3.\")\n",
    "else:\n",
    "    print(\"The number is not divisible by 2 or 3.\")"
   ]
  },
  {
   "cell_type": "code",
   "execution_count": 46,
   "id": "9b595d7b-4d24-42c7-bf69-d6c92a75d9c7",
   "metadata": {},
   "outputs": [
    {
     "name": "stdin",
     "output_type": "stream",
     "text": [
      "Enter a number:  352\n"
     ]
    },
    {
     "name": "stdout",
     "output_type": "stream",
     "text": [
      "Sum of digits of a number:  10\n"
     ]
    }
   ],
   "source": [
    "#20. Print sum of digits of a number. \n",
    "num = int(input(\"Enter a number: \"))\n",
    "sum=0\n",
    "while(num!=0):\n",
    "    sum+=(num%10)\n",
    "    num//=10\n",
    "print(\"Sum of digits of a number: \", sum)"
   ]
  },
  {
   "cell_type": "code",
   "execution_count": 49,
   "id": "632f289b-75a1-4618-9019-0914a994f47b",
   "metadata": {},
   "outputs": [
    {
     "name": "stdin",
     "output_type": "stream",
     "text": [
      "Enter 1st number:  3\n",
      "Enter 2nd number:  8\n"
     ]
    },
    {
     "name": "stdout",
     "output_type": "stream",
     "text": [
      "After Swapping\n",
      "a =  8  b =  3\n"
     ]
    }
   ],
   "source": [
    "#21. Swap two numbers using a temporary variable.\n",
    "a = int(input(\"Enter 1st number: \"))\n",
    "b = int(input(\"Enter 2nd number: \"))\n",
    "c=a\n",
    "a=b\n",
    "b=c\n",
    "print(\"After Swapping\")\n",
    "print(\"a = \",a,\" b = \",b)"
   ]
  },
  {
   "cell_type": "code",
   "execution_count": 50,
   "id": "9913ec03-5cb2-455a-abb3-b1b6d9635228",
   "metadata": {},
   "outputs": [
    {
     "name": "stdout",
     "output_type": "stream",
     "text": [
      "7\n",
      "14\n",
      "21\n",
      "28\n",
      "35\n",
      "42\n",
      "49\n",
      "56\n",
      "63\n",
      "70\n",
      "77\n",
      "84\n",
      "91\n",
      "98\n"
     ]
    }
   ],
   "source": [
    "#22. Print numbers from 1 to 100 that are divisible by 7.\n",
    "for i in range(1,100):\n",
    "    if(i%7==0):\n",
    "        print(i)"
   ]
  },
  {
   "cell_type": "code",
   "execution_count": 52,
   "id": "422a0091-2459-4766-9b42-02956c98d4af",
   "metadata": {},
   "outputs": [
    {
     "name": "stdin",
     "output_type": "stream",
     "text": [
      "Enter a number:  6\n"
     ]
    },
    {
     "name": "stdout",
     "output_type": "stream",
     "text": [
      "Factorial :  720\n"
     ]
    }
   ],
   "source": [
    "#23. Find the factorial of a number. \n",
    "num = int(input(\"Enter a number: \"))\n",
    "f=1\n",
    "for i in range(1,num+1):\n",
    "    f*=i\n",
    "print(\"Factorial : \" , f)"
   ]
  },
  {
   "cell_type": "code",
   "execution_count": 56,
   "id": "f041e9c9-8c67-48ab-b4cb-9a895d9e7ef1",
   "metadata": {},
   "outputs": [
    {
     "name": "stdout",
     "output_type": "stream",
     "text": [
      "3\n"
     ]
    }
   ],
   "source": [
    "#24. Count vowels in a string. \n",
    "word=\"Hello ! World\"\n",
    "count=0\n",
    "vowels = {'a','e','i','o','u','A','E','I','O','U'}\n",
    "for char in word:\n",
    "    if(char in vowels):\n",
    "        count+=1\n",
    "print(count)"
   ]
  },
  {
   "cell_type": "code",
   "execution_count": 57,
   "id": "aa682638-7dae-4c39-bfca-6cc4ece78f39",
   "metadata": {},
   "outputs": [
    {
     "name": "stdin",
     "output_type": "stream",
     "text": [
      "Enter a number:  234\n"
     ]
    },
    {
     "name": "stdout",
     "output_type": "stream",
     "text": [
      "Reversed number is :  432\n"
     ]
    }
   ],
   "source": [
    "#25. Reverse a number using loop.\n",
    "num = int(input(\"Enter a number: \"))\n",
    "rev_num = 0\n",
    "while(num!=0):\n",
    "    reminder = num%10\n",
    "    rev_num = (rev_num*10)+reminder\n",
    "    num//=10\n",
    "print(\"Reversed number is : \",rev_num)"
   ]
  },
  {
   "cell_type": "code",
   "execution_count": 3,
   "id": "a725901e-882b-4861-927f-6659ea0a9aef",
   "metadata": {},
   "outputs": [
    {
     "name": "stdout",
     "output_type": "stream",
     "text": [
      "8\n"
     ]
    }
   ],
   "source": [
    "#26. Find the maximum in a list using loop.        \n",
    "my_list = (3,8,1,4,6)\n",
    "max_num = my_list[0]\n",
    "for i in my_list:\n",
    "    if(i>max_num):\n",
    "        max_num = i\n",
    "print(max_num)"
   ]
  },
  {
   "cell_type": "code",
   "execution_count": 6,
   "id": "7a736501-2a9f-468e-9375-48a98f6c53f5",
   "metadata": {},
   "outputs": [
    {
     "name": "stdin",
     "output_type": "stream",
     "text": [
      "Enter a number:  2\n"
     ]
    },
    {
     "name": "stdout",
     "output_type": "stream",
     "text": [
      "The input number is a prime.\n"
     ]
    }
   ],
   "source": [
    "#27. Prime number check using loop.\n",
    "num = int(input(\"Enter a number: \"))\n",
    "count=2\n",
    "for i in range(2,num):\n",
    "    if(num%i==0):\n",
    "        count+=1\n",
    "if(count==2):\n",
    "    print(\"The input number is a prime.\")\n",
    "else:\n",
    "    print(\"The input number is not a prime.\")"
   ]
  },
  {
   "cell_type": "code",
   "execution_count": 7,
   "id": "289253dc-c2a7-46fb-b00a-52bdeeb6ea38",
   "metadata": {},
   "outputs": [
    {
     "name": "stdout",
     "output_type": "stream",
     "text": [
      "18\n"
     ]
    }
   ],
   "source": [
    "#28. Sum of even numbers in a list. \n",
    "my_list = (3,8,1,4,6)\n",
    "sum = 0\n",
    "for i in my_list:\n",
    "    if(i%2==0):\n",
    "        sum+=i\n",
    "print(sum)"
   ]
  },
  {
   "cell_type": "code",
   "execution_count": 8,
   "id": "a5dd1259-289a-4dd2-8d36-c223643aa3d5",
   "metadata": {},
   "outputs": [
    {
     "name": "stdin",
     "output_type": "stream",
     "text": [
      "Enter no. of levels: 3\n"
     ]
    },
    {
     "name": "stdout",
     "output_type": "stream",
     "text": [
      "1 \n",
      "\n",
      "2 2 \n",
      "\n",
      "3 3 3 \n",
      "\n"
     ]
    }
   ],
   "source": [
    "#29. Print number pattern using nested loops. \n",
    "levels=int(input(\"Enter no. of levels:\"))\n",
    "for level in range(1,levels+1):\n",
    "    for num in range(level):\n",
    "        print(level, end=\" \")\n",
    "    print(\"\\n\")"
   ]
  },
  {
   "cell_type": "code",
   "execution_count": 2,
   "id": "0e207220-95c3-4367-a4bd-45e976e55abd",
   "metadata": {},
   "outputs": [
    {
     "name": "stdin",
     "output_type": "stream",
     "text": [
      "Enter a number: 7833001\n"
     ]
    },
    {
     "name": "stdout",
     "output_type": "stream",
     "text": [
      "Digit 0 occurs  2 times\n",
      "Digit 1 occurs  1 times\n",
      "Digit 3 occurs  2 times\n",
      "Digit 7 occurs  1 times\n",
      "Digit 8 occurs  1 times\n"
     ]
    }
   ],
   "source": [
    "#30. Count frequency of digits in a number.\n",
    "num=input(\"Enter a number:\")\n",
    "for i in range(10):\n",
    "    count=0\n",
    "    for dig in num:\n",
    "        if(dig==str(i)):\n",
    "            count+=1\n",
    "    if(count>0):\n",
    "        print(\"Digit\",i,\"occurs \",count,\"times\") "
   ]
  },
  {
   "cell_type": "code",
   "execution_count": 3,
   "id": "f66e5633-ad83-48c1-8b01-8253417ae426",
   "metadata": {},
   "outputs": [
    {
     "name": "stdin",
     "output_type": "stream",
     "text": [
      "Enter 1st number:  10\n",
      "Enter 2nd number:  15\n"
     ]
    },
    {
     "name": "stdout",
     "output_type": "stream",
     "text": [
      "GCD :  5\n"
     ]
    }
   ],
   "source": [
    "#31. GCD of two numbers using loop. \n",
    "a = int(input(\"Enter 1st number: \"))\n",
    "b = int(input(\"Enter 2nd number: \"))\n",
    "if(a>=b):\n",
    "    c=a\n",
    "else:\n",
    "    c=b\n",
    "for i in range(1,c+1):\n",
    "    if(a%i==0 and b%i==0):\n",
    "        gcd=i\n",
    "print(\"GCD : \",gcd)"
   ]
  },
  {
   "cell_type": "code",
   "execution_count": 5,
   "id": "95219931-6141-40bd-ad5a-fd9bb5f45f56",
   "metadata": {},
   "outputs": [
    {
     "name": "stdin",
     "output_type": "stream",
     "text": [
      "Enter a number:  121\n"
     ]
    },
    {
     "name": "stdout",
     "output_type": "stream",
     "text": [
      "121 is a Palindrome.\n"
     ]
    }
   ],
   "source": [
    "#32. Check if a number is a palindrome. \n",
    "num = int(input(\"Enter a number: \"))\n",
    "rev_num = 0\n",
    "number=num\n",
    "while(num!=0):\n",
    "    reminder = num%10\n",
    "    rev_num = (rev_num*10)+reminder\n",
    "    num//=10\n",
    "if(number==rev_num):\n",
    "    print(number,\"is a Palindrome.\")\n",
    "else:\n",
    "    print(number,\"is not a Palindrome.\")"
   ]
  },
  {
   "cell_type": "code",
   "execution_count": 8,
   "id": "c2a3b76f-eb2c-4206-86b2-d2b1fc87f6d5",
   "metadata": {},
   "outputs": [
    {
     "name": "stdin",
     "output_type": "stream",
     "text": [
      "Enter a sentence:  Welcome to jupyter notebook\n"
     ]
    },
    {
     "name": "stdout",
     "output_type": "stream",
     "text": [
      "There are 4 words in the sentence.\n"
     ]
    }
   ],
   "source": [
    "#33. Count words in a sentence.\n",
    "sentence=input(\"Enter a sentence: \")\n",
    "space=0\n",
    "for letter in sentence:\n",
    "    if(letter==' '):\n",
    "        space+=1\n",
    "print(\"There are\",(space+1),\"words in the sentence.\")"
   ]
  },
  {
   "cell_type": "code",
   "execution_count": 11,
   "id": "c7e91184-e125-4d9a-ae28-b75735f0039a",
   "metadata": {},
   "outputs": [
    {
     "name": "stdout",
     "output_type": "stream",
     "text": [
      "[2, 3]\n"
     ]
    }
   ],
   "source": [
    "#34. Find common elements in two lists. \n",
    "a=[5,8,2,1,3]\n",
    "b=[3,7,6,9,2]\n",
    "common=[]\n",
    "for i in a:\n",
    "    if(i in b):\n",
    "        common.append(i)\n",
    "print(common)"
   ]
  },
  {
   "cell_type": "code",
   "execution_count": 14,
   "id": "48ea7f61-f9b3-4901-b032-bdb67a531e7c",
   "metadata": {},
   "outputs": [
    {
     "name": "stdin",
     "output_type": "stream",
     "text": [
      "Enter your score:  99\n"
     ]
    },
    {
     "name": "stdout",
     "output_type": "stream",
     "text": [
      "Grade:  A\n"
     ]
    }
   ],
   "source": [
    "#35. Use elif to grade students based on score. \n",
    "score=int(input(\"Enter your score: \"))\n",
    "if(score>=90):\n",
    "    grade='A'\n",
    "elif(score>=80):\n",
    "    grade='B'\n",
    "elif(score>=60):\n",
    "    grade='C'\n",
    "elif(score>=40):\n",
    "    grade='D'\n",
    "elif(score>=30):\n",
    "    grade='E'\n",
    "else:\n",
    "    grade='F'\n",
    "print(\"Grade: \",grade)"
   ]
  },
  {
   "cell_type": "code",
   "execution_count": 24,
   "id": "e3b4bb65-8e9e-4866-a734-1801d1d9e2ff",
   "metadata": {},
   "outputs": [
    {
     "name": "stdout",
     "output_type": "stream",
     "text": [
      "* \n",
      "* * \n",
      "* * * \n",
      "* * * * \n"
     ]
    }
   ],
   "source": [
    "#36. Print a right-angled triangle using *. \n",
    "for i in range(1,5):\n",
    "    print(\"* \"*i)"
   ]
  },
  {
   "cell_type": "code",
   "execution_count": 28,
   "id": "5a3fc6c4-46c3-4f8f-9465-ddb5c45dbdd1",
   "metadata": {},
   "outputs": [
    {
     "name": "stdin",
     "output_type": "stream",
     "text": [
      "Enter a year: 2025\n"
     ]
    },
    {
     "name": "stdout",
     "output_type": "stream",
     "text": [
      "2025 is not a Leap year.\n"
     ]
    }
   ],
   "source": [
    "#37. Check if a year is a leap year. \n",
    "year=int(input(\"Enter a year:\"))\n",
    "if((year%4==0 and year%100!=0) or (year%400==0)):\n",
    "    print(year,\"is a Leap year.\")\n",
    "else:\n",
    "    print(year,\"is not a Leap year.\")"
   ]
  },
  {
   "cell_type": "code",
   "execution_count": 32,
   "id": "7bfdc4fd-9e93-48f8-893a-782bd5b3fb19",
   "metadata": {},
   "outputs": [
    {
     "name": "stdin",
     "output_type": "stream",
     "text": [
      "Enter a number:  5\n"
     ]
    },
    {
     "name": "stdout",
     "output_type": "stream",
     "text": [
      "Fibonacci sequence upto 5 terms:\n",
      "0 1 1 2 3 "
     ]
    }
   ],
   "source": [
    "#38. Print Fibonacci series using loop. \n",
    "n = int(input(\"Enter a number: \"))\n",
    "a= 0\n",
    "b=1\n",
    "if (n <= 0):\n",
    "    print(\"Please enter a positive integer\")\n",
    "elif(n == 1):\n",
    "    print(\"Fibonacci sequence upto\",n,\"terms:\")\n",
    "    print(a)\n",
    "else:\n",
    "    print(\"Fibonacci sequence upto\", n, \"terms:\")\n",
    "    while n > 0:\n",
    "        print(a, end=\" \")\n",
    "        a, b = b, a + b\n",
    "        n -= 1"
   ]
  },
  {
   "cell_type": "code",
   "execution_count": 34,
   "id": "d741cc04-9e60-44a4-b91c-e39083266365",
   "metadata": {},
   "outputs": [
    {
     "name": "stdin",
     "output_type": "stream",
     "text": [
      "Enter a string:  Have A Nice Day\n"
     ]
    },
    {
     "name": "stdout",
     "output_type": "stream",
     "text": [
      "Upper letters present in the string:  4\n",
      "Lower letters present in the string:  8\n"
     ]
    }
   ],
   "source": [
    "#39. Count uppercase and lowercase letters in a string. \n",
    "string =input(\"Enter a string: \")\n",
    "c_upper=0\n",
    "c_lower=0\n",
    "for char in string:\n",
    "    if(65<=ord(char)<=90):\n",
    "        c_upper+=1\n",
    "    elif(97<=ord(char)<=122):\n",
    "        c_lower+=1\n",
    "print(\"Upper letters present in the string: \",c_upper)\n",
    "print(\"Lower letters present in the string: \",c_lower)"
   ]
  },
  {
   "cell_type": "code",
   "execution_count": 33,
   "id": "a21c8b8b-b30a-4e83-be96-7f29e84ba1b3",
   "metadata": {},
   "outputs": [
    {
     "name": "stdout",
     "output_type": "stream",
     "text": [
      "100\n",
      "99\n",
      "98\n",
      "97\n",
      "96\n",
      "95\n",
      "94\n",
      "93\n",
      "92\n",
      "91\n",
      "90\n",
      "89\n",
      "88\n",
      "87\n",
      "86\n",
      "85\n",
      "84\n",
      "83\n",
      "82\n",
      "81\n",
      "80\n",
      "79\n",
      "78\n",
      "77\n",
      "76\n",
      "75\n",
      "74\n",
      "73\n",
      "72\n",
      "71\n",
      "70\n",
      "69\n",
      "68\n",
      "67\n",
      "66\n",
      "65\n",
      "64\n",
      "63\n",
      "62\n",
      "61\n",
      "60\n",
      "59\n",
      "58\n",
      "57\n",
      "56\n",
      "55\n",
      "54\n",
      "53\n",
      "52\n",
      "51\n",
      "50\n",
      "49\n",
      "48\n",
      "47\n",
      "46\n",
      "45\n",
      "44\n",
      "43\n",
      "42\n",
      "41\n",
      "40\n",
      "39\n",
      "38\n",
      "37\n",
      "36\n",
      "35\n",
      "34\n",
      "33\n",
      "32\n",
      "31\n",
      "30\n",
      "29\n",
      "28\n",
      "27\n",
      "26\n",
      "25\n",
      "24\n",
      "23\n",
      "22\n",
      "21\n",
      "20\n",
      "19\n",
      "18\n",
      "17\n",
      "16\n",
      "15\n",
      "14\n",
      "13\n",
      "12\n",
      "11\n",
      "10\n",
      "9\n",
      "8\n",
      "7\n",
      "6\n",
      "5\n",
      "4\n",
      "3\n",
      "2\n",
      "1\n"
     ]
    }
   ],
   "source": [
    "#40. Print numbers from 100 to 1 using loop.\n",
    "for i in range(100,0,-1):\n",
    "    print(i)"
   ]
  },
  {
   "cell_type": "code",
   "execution_count": null,
   "id": "d8ef8caf-55c4-497d-a415-1d9c83fe17a8",
   "metadata": {},
   "outputs": [],
   "source": []
  }
 ],
 "metadata": {
  "kernelspec": {
   "display_name": "Python [conda env:base] *",
   "language": "python",
   "name": "conda-base-py"
  },
  "language_info": {
   "codemirror_mode": {
    "name": "ipython",
    "version": 3
   },
   "file_extension": ".py",
   "mimetype": "text/x-python",
   "name": "python",
   "nbconvert_exporter": "python",
   "pygments_lexer": "ipython3",
   "version": "3.12.7"
  }
 },
 "nbformat": 4,
 "nbformat_minor": 5
}
