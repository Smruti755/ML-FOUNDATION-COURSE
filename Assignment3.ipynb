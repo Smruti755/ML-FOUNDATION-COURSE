{
 "cells": [
  {
   "cell_type": "markdown",
   "id": "95628b29-9320-42fc-92c1-e84627dc34fb",
   "metadata": {},
   "source": [
    "### 1. Create a simple class `Person` with name and age as attributes."
   ]
  },
  {
   "cell_type": "code",
   "execution_count": 48,
   "id": "9bc0e558-fdb7-4a04-8547-a5baeafd0647",
   "metadata": {},
   "outputs": [
    {
     "name": "stdout",
     "output_type": "stream",
     "text": [
      "Aliva 30\n"
     ]
    }
   ],
   "source": [
    "class Person:\n",
    "    def __init__(self, name, age):\n",
    "        self.name = name\n",
    "        self.age = age\n",
    "person1 = Person(\"Aliva\", 30)\n",
    "print(person1.name, person1.age)"
   ]
  },
  {
   "cell_type": "markdown",
   "id": "fe8a5ca6-98bb-49d3-9e35-7a1e55147dc4",
   "metadata": {},
   "source": [
    "### 2. Add a method to the `Person` class that prints a greeting. "
   ]
  },
  {
   "cell_type": "code",
   "execution_count": 49,
   "id": "5efb80d9-d1b6-49de-8d80-bab1edf64ad4",
   "metadata": {},
   "outputs": [
    {
     "name": "stdout",
     "output_type": "stream",
     "text": [
      "Aliva 30\n",
      "Hello, my name is Aliva and I am 30 years old.\n"
     ]
    }
   ],
   "source": [
    "class Person:\n",
    "    def __init__(self, name, age):\n",
    "        self.name = name\n",
    "        self.age = age\n",
    "    def greet(self):\n",
    "        print(f\"Hello, my name is {self.name} and I am {self.age} years old.\")\n",
    "person1 = Person(\"Aliva\", 30)\n",
    "print(person1.name, person1.age)\n",
    "person1.greet()"
   ]
  },
  {
   "cell_type": "markdown",
   "id": "b9d2e2b8-17db-4c9b-90b8-950418fb5e68",
   "metadata": {},
   "source": [
    "### 3. Create a class with a class variable and instance variable. "
   ]
  },
  {
   "cell_type": "code",
   "execution_count": 51,
   "id": "7d09bbb3-4612-4cd1-94c3-6b9d940be7d5",
   "metadata": {},
   "outputs": [
    {
     "name": "stdout",
     "output_type": "stream",
     "text": [
      "This is a class variable\n",
      "Instance variable for instance1\n"
     ]
    }
   ],
   "source": [
    "class ExampleClass:\n",
    "    class_var=\"This is a class variable\" #class variable\n",
    "\n",
    "    def __init__(self, instance_var):\n",
    "        self.instance_var=instance_var # instances variable\n",
    "instance1 = ExampleClass(\"Instance variable for instance1\")\n",
    "print(ExampleClass.class_var)\n",
    "print(instance1.instance_var)"
   ]
  },
  {
   "cell_type": "markdown",
   "id": "95005fc3-7b3f-414c-bf1e-4780f9073a10",
   "metadata": {},
   "source": [
    "### 4. Create a private attribute in a class and access it using a method."
   ]
  },
  {
   "cell_type": "code",
   "execution_count": 55,
   "id": "91fd70fe-bad6-4715-9865-eb0d75da4734",
   "metadata": {},
   "outputs": [
    {
     "name": "stdout",
     "output_type": "stream",
     "text": [
      "10\n",
      "20\n"
     ]
    }
   ],
   "source": [
    "class Private:\n",
    "    def __init__(self, value):\n",
    "        self.__pvt = value\n",
    "\n",
    "    def get_private_attribute(self):\n",
    "        return self.__pvt\n",
    "\n",
    "    def set_private_attribute(self, new_value):\n",
    "        self.__pvt = new_value\n",
    "\n",
    "obj = Private(10)\n",
    "print(obj.get_private_attribute())  # Output: 10\n",
    "obj.set_private_attribute(20)\n",
    "print(obj.get_private_attribute())  # Output: 20"
   ]
  },
  {
   "cell_type": "markdown",
   "id": "869d4335-5b3b-4bb6-b1a4-e81661dcde5e",
   "metadata": {},
   "source": [
    "### 5. Create a class with a method that returns the square of a number. "
   ]
  },
  {
   "cell_type": "code",
   "execution_count": 57,
   "id": "87e91934-5cc0-4aa2-a209-e921531d80c9",
   "metadata": {},
   "outputs": [
    {
     "name": "stdout",
     "output_type": "stream",
     "text": [
      "25\n"
     ]
    }
   ],
   "source": [
    "class SquareCalculator:\n",
    "    def get_square(self, num):\n",
    "        return num ** 2\n",
    "        \n",
    "obj = SquareCalculator()\n",
    "result = obj.get_square(5)\n",
    "print(result)"
   ]
  },
  {
   "cell_type": "markdown",
   "id": "75642c49-5f04-4fc0-b0da-23f238d08a03",
   "metadata": {},
   "source": [
    "### 6. Create two objects of a class and demonstrate that they are independent."
   ]
  },
  {
   "cell_type": "code",
   "execution_count": 60,
   "id": "daed3909-0285-4f9f-ab99-fdb769c184ae",
   "metadata": {},
   "outputs": [
    {
     "name": "stdout",
     "output_type": "stream",
     "text": [
      "Buddy's tricks: ['roll over']\n",
      "Max's tricks: ['fetch']\n",
      "Charlie's tricks: ['roll over']\n",
      "Max's tricks: ['fetch']\n"
     ]
    }
   ],
   "source": [
    "class Dog:\n",
    "    def __init__(self, name):\n",
    "        self.name = name\n",
    "        self.tricks = []\n",
    "\n",
    "    def add_trick(self, trick):\n",
    "        self.tricks.append(trick)\n",
    "\n",
    "dog1 = Dog(\"Buddy\")\n",
    "dog2 = Dog(\"Max\")\n",
    "dog1.add_trick(\"roll over\")\n",
    "dog2.add_trick(\"fetch\")\n",
    "print(f\"{dog1.name}'s tricks: {dog1.tricks}\")\n",
    "print(f\"{dog2.name}'s tricks: {dog2.tricks}\")\n",
    "dog1.name = \"Charlie\"\n",
    "print(f\"{dog1.name}'s tricks: {dog1.tricks}\")\n",
    "print(f\"{dog2.name}'s tricks: {dog2.tricks}\")"
   ]
  },
  {
   "cell_type": "markdown",
   "id": "20550515-ee51-4800-a400-ef6dbb1af4f2",
   "metadata": {},
   "source": [
    "### 7. Create a class and use a method to set its attributes. "
   ]
  },
  {
   "cell_type": "code",
   "execution_count": 61,
   "id": "dddbd728-8079-4a99-a5ee-085608cede3f",
   "metadata": {},
   "outputs": [
    {
     "name": "stdout",
     "output_type": "stream",
     "text": [
      "Audi\n",
      "A4\n",
      "A2\n"
     ]
    }
   ],
   "source": [
    "class Car:\n",
    "    def __init__(self,brand,model,year):\n",
    "        self.brand=brand\n",
    "        self._model=model\n",
    "        self.year=year\n",
    "    def get_model(self):\n",
    "        return self._model\n",
    "    def set_model(self,new_val):\n",
    "        self._model=new_val\n",
    "my_car=Car(\"Audi\",\"A4\",\"2024\")\n",
    "print(my_car.brand)\n",
    "print(my_car.get_model())\n",
    "my_car.set_model(\"A2\")\n",
    "print(my_car.get_model())"
   ]
  },
  {
   "cell_type": "markdown",
   "id": "1cec0d0d-9345-4088-9def-4dd190e52938",
   "metadata": {},
   "source": [
    "### 8. Demonstrate use of `isinstance()` with a class. "
   ]
  },
  {
   "cell_type": "code",
   "execution_count": 63,
   "id": "48958c91-2939-4862-b339-21b7714e60ad",
   "metadata": {},
   "outputs": [
    {
     "name": "stdout",
     "output_type": "stream",
     "text": [
      "True\n"
     ]
    }
   ],
   "source": [
    "class Animal:\n",
    "    def __init__(self, name):\n",
    "        self.name = name\n",
    "\n",
    "obj = Animal(\"Dog\")\n",
    "print(isinstance(obj,Animal))"
   ]
  },
  {
   "cell_type": "markdown",
   "id": "791a44b7-8af3-4e08-a90f-1b8baed7365f",
   "metadata": {},
   "source": [
    "### 9. Demonstrate single inheritance in Python. "
   ]
  },
  {
   "cell_type": "code",
   "execution_count": 46,
   "id": "b5a5de80-4195-4350-88c6-c98c6384e666",
   "metadata": {},
   "outputs": [
    {
     "name": "stdout",
     "output_type": "stream",
     "text": [
      "Audi engine started.\n"
     ]
    }
   ],
   "source": [
    "class Vehicle:\n",
    "    def start_engine(self): \n",
    "        pass\n",
    "class Car(Vehicle): #Single inheritance\n",
    "    def __init__(self,brand):\n",
    "        self.brand=brand\n",
    "        self.is_running=False\n",
    "    def start_engine(self): \n",
    "        self.is_running=True \n",
    "        print(f\"{self.brand} engine started.\")\n",
    "my_car=Car(\"Audi\")\n",
    "my_car.start_engine()"
   ]
  },
  {
   "cell_type": "markdown",
   "id": "fb1c8d1d-2f2b-4601-abc5-5182c5539eb9",
   "metadata": {},
   "source": [
    "### 10. Create a base class and derive two child classes with different methods(multilevel inheritance)."
   ]
  },
  {
   "cell_type": "code",
   "execution_count": 58,
   "id": "22b5983c-fb55-4937-a8af-8d0c1710ab84",
   "metadata": {},
   "outputs": [
    {
     "name": "stdout",
     "output_type": "stream",
     "text": [
      "Audi A4 engine started.\n",
      "Tata Toyota engine started.\n"
     ]
    }
   ],
   "source": [
    "class Vehicle:\n",
    "    def start_engine(self): \n",
    "        pass\n",
    "class Car(Vehicle):\n",
    "    total_car_obj=0\n",
    "    def __init__(self,brand,model,year):\n",
    "        self.brand=brand\n",
    "        self._model=model\n",
    "        self.year=year\n",
    "        self.is_running=False \n",
    "        Car.total_car_obj+=1\n",
    "    def get_model(self):\n",
    "        return self._model\n",
    "    def set_model(self,new_val):\n",
    "        self._model=new_val\n",
    "    def start_engine(self): \n",
    "        self.is_running=True \n",
    "        print(f\"{self.brand} {self._model} engine started.\")\n",
    "class ElectricCar(Car):\n",
    "    def __init__(self,brand,model,year):\n",
    "        self.brand=brand\n",
    "        self._model=model\n",
    "        self.year=year\n",
    "    def start_engine(self): \n",
    "        self.is_running=True \n",
    "        print(f\"{self.brand} {self._model} engine started.\")\n",
    "my_car=Car(\"Audi\",\"A4\",\"2024\")\n",
    "my_car.start_engine()\n",
    "m_car=ElectricCar(\"Tata\",\"Toyota\",\"2024\")\n",
    "m_car.start_engine()"
   ]
  },
  {
   "cell_type": "markdown",
   "id": "32b9107f-4dac-4d81-9c41-4ea963d4e3d3",
   "metadata": {},
   "source": [
    "### 11. Demonstrate method overriding in inheritance. "
   ]
  },
  {
   "cell_type": "code",
   "execution_count": 59,
   "id": "979d5c99-92eb-4fbe-aa08-68dd9694a3ce",
   "metadata": {},
   "outputs": [
    {
     "name": "stdout",
     "output_type": "stream",
     "text": [
      "Audi A4 engine started.\n"
     ]
    }
   ],
   "source": [
    "class Car:\n",
    "    total_car_obj=0\n",
    "    def __init__(self,brand,model):\n",
    "        self.brand=brand\n",
    "        self._model=model\n",
    "        self.is_running=False #is_running : Local variable\n",
    "    def start_engine(self): #start_engine() Method overriding in parent class\n",
    "        self.is_running=True \n",
    "        print(f\"{self.brand} engine started.\")\n",
    "class ElectricCar(Car):\n",
    "    def __init__(self,brand,model):\n",
    "        super().__init__(brand,model)\n",
    "    def start_engine(self): #start_engine() Method overriding in child class\n",
    "        self.is_running=True \n",
    "        print(f\"{self.brand} {self._model} engine started.\")\n",
    "my_car=ElectricCar(\"Audi\",\"A4\")\n",
    "my_car.start_engine()"
   ]
  },
  {
   "cell_type": "markdown",
   "id": "3d3bb1e1-b987-4008-b840-1c4165e4106b",
   "metadata": {},
   "source": [
    "### 12. Use `super()` to call a parent class method."
   ]
  },
  {
   "cell_type": "code",
   "execution_count": 4,
   "id": "bed9983b-a27f-404f-801e-62f7580d3ac3",
   "metadata": {},
   "outputs": [
    {
     "name": "stdout",
     "output_type": "stream",
     "text": [
      "Fair\n",
      "6.5 Feet\n",
      "58 kg\n",
      "Color:Fair   Height:6.5 Feet\n"
     ]
    }
   ],
   "source": [
    "class Human:\n",
    "    def __init__(self,color,height):\n",
    "        self.color=color\n",
    "        self.height=height\n",
    "    def appearance(self):\n",
    "        print(f\"Color:{self.color}   Height:{self.height}\")\n",
    "class Man(Human):\n",
    "    def __init__(self,color,height,weight):\n",
    "        self.weight=weight\n",
    "        super().__init__(color,height)\n",
    "man1=Man(\"Fair\",\"6.5 Feet\",\"58 kg\")\n",
    "print(man1.color)\n",
    "print(man1.height)\n",
    "print(man1.weight)\n",
    "man1.appearance()"
   ]
  },
  {
   "cell_type": "markdown",
   "id": "8e7ca32c-8005-4eba-b085-bd54e97f2e16",
   "metadata": {},
   "source": [
    "### 13. Create an abstract base class using `abc` module.  "
   ]
  },
  {
   "cell_type": "code",
   "execution_count": 20,
   "id": "9b3df160-d5a2-4a60-bcca-2ca581445f18",
   "metadata": {},
   "outputs": [
    {
     "name": "stdout",
     "output_type": "stream",
     "text": [
      "Circle radius: 5\n",
      "Circle area: 78.5\n"
     ]
    }
   ],
   "source": [
    "from abc import ABC, abstractmethod\n",
    "\n",
    "class Shape(ABC): #abstract class Shape\n",
    "    def area(self): #abstract method area()\n",
    "        pass\n",
    "class Circle(Shape): #concrete class Circle\n",
    "    def __init__(self, radius):\n",
    "        self.radius = radius\n",
    "    def area(self): #concrete method area()\n",
    "        return 3.14 * self.radius * self.radius\n",
    "circle = Circle(5)\n",
    "print(f\"Circle radius: {circle.radius}\")\n",
    "print(f\"Circle area: {circle.area()}\")"
   ]
  },
  {
   "cell_type": "markdown",
   "id": "0dd075ae-f20a-4017-9c70-62c74779f90c",
   "metadata": {},
   "source": [
    "### 14. Demonstrate multiple inheritance in Python."
   ]
  },
  {
   "cell_type": "code",
   "execution_count": 47,
   "id": "9e451c96-2f05-493a-8f7e-7213c83d7597",
   "metadata": {},
   "outputs": [
    {
     "name": "stdout",
     "output_type": "stream",
     "text": [
      "45  m\n",
      "160  kg\n",
      "BMI: 0.07901234567901234\n"
     ]
    }
   ],
   "source": [
    "class Man:\n",
    "    def __init__(self,height_m):\n",
    "        self.height_m=height_m\n",
    "class Woman:\n",
    "    def __init__(self,weight_kg):\n",
    "        self.weight_kg=weight_kg\n",
    "class Child(Man,Woman):\n",
    "     def __init__(self,height_m,weight_kg):\n",
    "         Man.__init__(self,height_m)\n",
    "         Woman.__init__(self,weight_kg)\n",
    "     def cal_bmi(self):\n",
    "        return (self.weight_kg / self.height_m**2)\n",
    "baby=Child(45,160)\n",
    "print(baby.height_m,\" m\")\n",
    "print(baby.weight_kg,\" kg\")\n",
    "bmi=baby.cal_bmi()\n",
    "print(\"BMI:\",bmi)"
   ]
  },
  {
   "cell_type": "markdown",
   "id": "e709bc57-5b99-4e21-9ed1-607e92ac907e",
   "metadata": {},
   "source": [
    "### 15.  Demonstrate encapsulation using getter and setter."
   ]
  },
  {
   "cell_type": "code",
   "execution_count": 23,
   "id": "441a838c-b4bf-4795-b958-cd8b1b422223",
   "metadata": {},
   "outputs": [
    {
     "name": "stdout",
     "output_type": "stream",
     "text": [
      "Audi A4\n",
      "A2\n"
     ]
    }
   ],
   "source": [
    "class Car:\n",
    "    def __init__(self,brand,model,year):\n",
    "        self.brand=brand\n",
    "        self._model=model\n",
    "        self.year=year\n",
    "    def get_model(self): #getter \n",
    "        return self._model\n",
    "    def set_model(self,new_val): #setter\n",
    "        self._model=new_val\n",
    "my_car=Car(\"Audi\",\"A4\",\"2024\")\n",
    "print(my_car.brand, my_car.get_model())\n",
    "my_car.set_model(\"A2\")\n",
    "print(my_car.get_model())"
   ]
  },
  {
   "cell_type": "markdown",
   "id": "e06a3733-cb50-4a97-9b2d-0dc98d502e50",
   "metadata": {},
   "source": [
    "### 16. Write a program to demonstrate polymorphism with a common method. "
   ]
  },
  {
   "cell_type": "code",
   "execution_count": 26,
   "id": "63885f94-7012-4649-85b3-2e9152767d3d",
   "metadata": {},
   "outputs": [
    {
     "name": "stdout",
     "output_type": "stream",
     "text": [
      "Audi A4 engine started.\n"
     ]
    }
   ],
   "source": [
    "class Car:\n",
    "    total_car_obj=0\n",
    "    def __init__(self,brand,model):\n",
    "        self.brand=brand\n",
    "        self._model=model\n",
    "        self.is_running=False #is_running : Local variable\n",
    "    def start_engine(self): #start_engine() Method overriding in parent class\n",
    "        self.is_running=True \n",
    "        print(f\"{self.brand} engine started.\")\n",
    "class ElectricCar(Car):\n",
    "    def __init__(self,brand,model):\n",
    "        super().__init__(brand,model)\n",
    "    def start_engine(self): #start_engine() Method overriding in child class\n",
    "        self.is_running=True \n",
    "        print(f\"{self.brand} {self._model} engine started.\")\n",
    "my_car=ElectricCar(\"Audi\",\"A4\")\n",
    "my_car.start_engine()"
   ]
  },
  {
   "cell_type": "markdown",
   "id": "77fd4e3d-4635-4684-b107-3359661bfd7d",
   "metadata": {},
   "source": [
    "### 17.  Create a class `Employee` with a method to display the number of employees created. "
   ]
  },
  {
   "cell_type": "code",
   "execution_count": 32,
   "id": "d1e7566b-ba93-4031-9a1c-5aca0fc8fafe",
   "metadata": {},
   "outputs": [
    {
     "name": "stdout",
     "output_type": "stream",
     "text": [
      "Total employee created: 3\n"
     ]
    }
   ],
   "source": [
    "class Employee:\n",
    "    total_emp=0\n",
    "    def __init__(self,name):\n",
    "        self.name=name\n",
    "        Employee.total_emp+=1\n",
    "emp1=Employee(\"A\")\n",
    "emp2=Employee(\"B\")\n",
    "emp3=Employee(\"C\")\n",
    "print(\"Total employee created:\",Employee.total_emp)"
   ]
  },
  {
   "cell_type": "markdown",
   "id": "ee2cab20-3479-4763-8f36-1943f9e65727",
   "metadata": {},
   "source": [
    "### 18.  Demonstrate constructor overloading using default arguments."
   ]
  },
  {
   "cell_type": "code",
   "execution_count": 39,
   "id": "68452702-fc1b-4608-b7a7-89c5c5fc2203",
   "metadata": {},
   "outputs": [
    {
     "name": "stdout",
     "output_type": "stream",
     "text": [
      "Hello\n",
      "Hello World\n"
     ]
    }
   ],
   "source": [
    "class Greeting:\n",
    "    def __init__(self,greet=None):\n",
    "        if(greet==None):\n",
    "            print(\"Hello\")\n",
    "        else:\n",
    "            print(\"Hello\",greet)\n",
    "obj1=Greeting() \n",
    "obj1=Greeting(\"World\") #default constructor"
   ]
  },
  {
   "cell_type": "markdown",
   "id": "fe37defa-b385-4bf9-aa27-0dc1271387bc",
   "metadata": {},
   "source": [
    "### 19.  Implement a bank account system with deposit and withdrawal methods. "
   ]
  },
  {
   "cell_type": "code",
   "execution_count": 41,
   "id": "88304bb9-2ec8-4e91-b7f5-c8271406627b",
   "metadata": {},
   "outputs": [
    {
     "name": "stdout",
     "output_type": "stream",
     "text": [
      "Account Number: 123456789, Account Holder: Simran, Balance: ₹1000\n",
      "Deposited amount ₹500. New balance: ₹1500\n",
      "Withdrawn amount ₹200. New balance: ₹1300\n",
      "Insufficient funds.\n",
      "Account Number: 123456789, Account Holder: Simran, Balance: ₹1300\n"
     ]
    }
   ],
   "source": [
    "class BankAccount:\n",
    "    def __init__(self, acc_no, acc_holder_name, balance=0):\n",
    "        self.acc_no=acc_no\n",
    "        self.acc_holder_name=acc_holder_name\n",
    "        self.balance=balance\n",
    "        \n",
    "    def deposit(self, amount):\n",
    "        if(amount>0):\n",
    "            self.balance+=amount\n",
    "            print(f\"Deposited amount ₹{amount}. New balance: ₹{self.balance}\")\n",
    "        else:\n",
    "            print(\"Invalid deposit amount.\")\n",
    "            \n",
    "    def withdraw(self,amount):\n",
    "        if(0<amount<=self.balance):\n",
    "            self.balance-=amount\n",
    "            print(f\"Withdrawn amount ₹{amount}. New balance: ₹{self.balance}\")\n",
    "        elif(amount>self.balance):\n",
    "             print(\"Insufficient funds.\")\n",
    "        else:\n",
    "            print(\"Invalid withdrawal amount.\")\n",
    "\n",
    "    def get_balance(self):\n",
    "        return self.balance\n",
    "\n",
    "    def __str__(self):\n",
    "        return (f\"Account Number: {self.acc_no}, Account Holder: {self.acc_holder_name}, Balance: ₹{self.balance}\")\n",
    "\n",
    "acc1=BankAccount(\"123456789\", \"Simran\", 1000)\n",
    "print(acc1)\n",
    "\n",
    "acc1.deposit(500)\n",
    "acc1.withdraw(200)\n",
    "acc1.withdraw(1500)\n",
    "\n",
    "print(acc1)"
   ]
  },
  {
   "cell_type": "markdown",
   "id": "8eda9b43-c456-4fd1-8f8c-afda85055519",
   "metadata": {},
   "source": [
    "### 20.  Create a class `Rectangle` with method to calculate area and perimeter."
   ]
  },
  {
   "cell_type": "code",
   "execution_count": 44,
   "id": "531081cc-115d-4ad8-876e-fa20636063dd",
   "metadata": {},
   "outputs": [
    {
     "name": "stdout",
     "output_type": "stream",
     "text": [
      "Length:5  Width: 10\n",
      "Area: 50\n",
      "Perimeter: 30\n"
     ]
    }
   ],
   "source": [
    "class Rectangle:\n",
    "    def __init__(self, length, width):\n",
    "        self.length = length\n",
    "        self.width = width\n",
    "\n",
    "    def calc_area(self):\n",
    "        return self.length * self.width\n",
    "\n",
    "    def calc_perimeter(self):\n",
    "        return 2 * (self.length + self.width)\n",
    "\n",
    "obj1 = Rectangle(5, 10)\n",
    "print(f\"Length:{obj1.length}  Width: {obj1.width}\")\n",
    "print(f\"Area: {obj1.calc_area()}\")\n",
    "print(f\"Perimeter: {obj1.calc_perimeter()}\")"
   ]
  }
 ],
 "metadata": {
  "kernelspec": {
   "display_name": "Python [conda env:base] *",
   "language": "python",
   "name": "conda-base-py"
  },
  "language_info": {
   "codemirror_mode": {
    "name": "ipython",
    "version": 3
   },
   "file_extension": ".py",
   "mimetype": "text/x-python",
   "name": "python",
   "nbconvert_exporter": "python",
   "pygments_lexer": "ipython3",
   "version": "3.12.7"
  }
 },
 "nbformat": 4,
 "nbformat_minor": 5
}
